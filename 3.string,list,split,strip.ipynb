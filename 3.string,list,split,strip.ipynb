{
 "cells": [
  {
   "cell_type": "markdown",
   "metadata": {},
   "source": [
    "### strings const"
   ]
  },
  {
   "cell_type": "code",
   "execution_count": 1,
   "metadata": {},
   "outputs": [
    {
     "data": {
      "text/plain": [
       "14"
      ]
     },
     "execution_count": 1,
     "metadata": {},
     "output_type": "execute_result"
    }
   ],
   "source": [
    "st = 'himasri chinnapurapu'   #finding position of pu\n",
    "st.find('pu')\n"
   ]
  },
  {
   "cell_type": "code",
   "execution_count": 2,
   "metadata": {},
   "outputs": [
    {
     "name": "stdout",
     "output_type": "stream",
     "text": [
      "2\n"
     ]
    }
   ],
   "source": [
    "st ='hello world'\n",
    "print(st.find('l'))"
   ]
  },
  {
   "cell_type": "code",
   "execution_count": 3,
   "metadata": {},
   "outputs": [
    {
     "data": {
      "text/plain": [
       "8"
      ]
     },
     "execution_count": 3,
     "metadata": {},
     "output_type": "execute_result"
    }
   ],
   "source": [
    "st = 'himasri chinnapurapu' #in btw 7 to 16\n",
    "st.find('ch',7,16)"
   ]
  },
  {
   "cell_type": "code",
   "execution_count": 4,
   "metadata": {},
   "outputs": [
    {
     "name": "stdout",
     "output_type": "stream",
     "text": [
      "3\n"
     ]
    }
   ],
   "source": [
    "st = 'himasri'\n",
    "a=st.find('a',1,5)\n",
    "print(a)"
   ]
  },
  {
   "cell_type": "code",
   "execution_count": 5,
   "metadata": {},
   "outputs": [
    {
     "data": {
      "text/plain": [
       "-1"
      ]
     },
     "execution_count": 5,
     "metadata": {},
     "output_type": "execute_result"
    }
   ],
   "source": [
    "st = 'himasri'\n",
    "st.find('k')           #if that word not there it show -1 as output"
   ]
  },
  {
   "cell_type": "code",
   "execution_count": 6,
   "metadata": {},
   "outputs": [
    {
     "data": {
      "text/plain": [
       "-1"
      ]
     },
     "execution_count": 6,
     "metadata": {},
     "output_type": "execute_result"
    }
   ],
   "source": [
    "st = 'hima'\n",
    "st.find('B',1,5)"
   ]
  },
  {
   "cell_type": "markdown",
   "metadata": {},
   "source": [
    "### strip function"
   ]
  },
  {
   "cell_type": "code",
   "execution_count": 7,
   "metadata": {},
   "outputs": [
    {
     "name": "stdout",
     "output_type": "stream",
     "text": [
      " heloo \n",
      "heloo\n"
     ]
    }
   ],
   "source": [
    "\n",
    "st =' heloo '            # it removes the places at the starting palce\n",
    "st1=st.strip()\n",
    "print(st)\n",
    "print(st1)\n"
   ]
  },
  {
   "cell_type": "code",
   "execution_count": 8,
   "metadata": {},
   "outputs": [
    {
     "name": "stdout",
     "output_type": "stream",
     "text": [
      "%$#@HIMA@SRI@#$%^\n",
      "HIMA@SRI\n"
     ]
    }
   ],
   "source": [
    "st ='%$#@HIMA@SRI@#$%^'\n",
    "st1=st.strip('@#$%^')        #here it will remove the data what we gave from the first and last of line\n",
    "print(st)\n",
    "print(st1)"
   ]
  },
  {
   "cell_type": "code",
   "execution_count": 9,
   "metadata": {},
   "outputs": [
    {
     "name": "stdout",
     "output_type": "stream",
     "text": [
      "fgh78fgh\n",
      "78\n"
     ]
    }
   ],
   "source": [
    "st ='fgh78fgh'\n",
    "st1=st.strip('fgh')\n",
    "print(st)\n",
    "print(st1)"
   ]
  },
  {
   "cell_type": "code",
   "execution_count": 10,
   "metadata": {},
   "outputs": [
    {
     "name": "stdout",
     "output_type": "stream",
     "text": [
      "hima$$@\n"
     ]
    }
   ],
   "source": [
    "st ='@@hima$$@'\n",
    "st1=st.lstrip('@')\n",
    "print(st1)"
   ]
  },
  {
   "cell_type": "code",
   "execution_count": 11,
   "metadata": {},
   "outputs": [
    {
     "name": "stdout",
     "output_type": "stream",
     "text": [
      "@@hima\n"
     ]
    }
   ],
   "source": [
    "st = '@@hima&&'\n",
    "st1=st.rstrip('&')\n",
    "print(st1)"
   ]
  },
  {
   "cell_type": "code",
   "execution_count": 12,
   "metadata": {},
   "outputs": [
    {
     "name": "stdout",
     "output_type": "stream",
     "text": [
      "hello hi how are you?\n",
      "hello hi hi are you?\n"
     ]
    }
   ],
   "source": [
    "s1 ='hello hi how are you?'  # replace string\n",
    "s2=s1.replace('how','hi')\n",
    "print(s1)\n",
    "print(s2)"
   ]
  },
  {
   "cell_type": "code",
   "execution_count": 13,
   "metadata": {},
   "outputs": [
    {
     "data": {
      "text/plain": [
       "True"
      ]
     },
     "execution_count": 13,
     "metadata": {},
     "output_type": "execute_result"
    }
   ],
   "source": [
    "st='himasri chinnapurapu' #startswith    it tell the index position and also any position by conforming bye boolean value\n",
    "st.startswith('h')    "
   ]
  },
  {
   "cell_type": "code",
   "execution_count": 14,
   "metadata": {},
   "outputs": [
    {
     "data": {
      "text/plain": [
       "True"
      ]
     },
     "execution_count": 14,
     "metadata": {},
     "output_type": "execute_result"
    }
   ],
   "source": [
    "st='hima sri'               # it's is  a case sensitive\n",
    "st.startswith('sri',5)\n"
   ]
  },
  {
   "cell_type": "code",
   "execution_count": 15,
   "metadata": {},
   "outputs": [
    {
     "data": {
      "text/plain": [
       "True"
      ]
     },
     "execution_count": 15,
     "metadata": {},
     "output_type": "execute_result"
    }
   ],
   "source": [
    "st='abc de hs je'\n",
    "st.startswith('de hs',4,10)"
   ]
  },
  {
   "cell_type": "code",
   "execution_count": 16,
   "metadata": {},
   "outputs": [],
   "source": [
    "### Bulit in methods strings"
   ]
  },
  {
   "cell_type": "code",
   "execution_count": 17,
   "metadata": {},
   "outputs": [
    {
     "data": {
      "text/plain": [
       "'Hello world'"
      ]
     },
     "execution_count": 17,
     "metadata": {},
     "output_type": "execute_result"
    }
   ],
   "source": [
    "str.capitalize(\"hello world\") # it will capitalize on starting letter"
   ]
  },
  {
   "cell_type": "code",
   "execution_count": 18,
   "metadata": {},
   "outputs": [
    {
     "name": "stdout",
     "output_type": "stream",
     "text": [
      "HELLO\n",
      "hello\n"
     ]
    }
   ],
   "source": [
    "st=\"hello\"\n",
    "st1= st.upper()\n",
    "print(st1)\n",
    "print(st)"
   ]
  },
  {
   "cell_type": "code",
   "execution_count": 19,
   "metadata": {},
   "outputs": [
    {
     "data": {
      "text/plain": [
       "True"
      ]
     },
     "execution_count": 19,
     "metadata": {},
     "output_type": "execute_result"
    }
   ],
   "source": [
    "st=\"Hello\"                      #alternativy\n",
    "\n",
    "st.lower().startswith('he')        "
   ]
  },
  {
   "cell_type": "code",
   "execution_count": 20,
   "metadata": {},
   "outputs": [
    {
     "data": {
      "text/plain": [
       "False"
      ]
     },
     "execution_count": 20,
     "metadata": {},
     "output_type": "execute_result"
    }
   ],
   "source": [
    "st=\"Hello\"\n",
    "st.startswith(\"he\")\n",
    "st.lower().startswith('He')"
   ]
  },
  {
   "cell_type": "code",
   "execution_count": 21,
   "metadata": {},
   "outputs": [
    {
     "data": {
      "text/plain": [
       "'HELLO'"
      ]
     },
     "execution_count": 21,
     "metadata": {},
     "output_type": "execute_result"
    }
   ],
   "source": [
    "st=\"Hello\"\n",
    "st.upper()"
   ]
  },
  {
   "cell_type": "code",
   "execution_count": 22,
   "metadata": {},
   "outputs": [
    {
     "data": {
      "text/plain": [
       "False"
      ]
     },
     "execution_count": 22,
     "metadata": {},
     "output_type": "execute_result"
    }
   ],
   "source": [
    "st=\"Hello\"\n",
    "\n",
    "st.upper().startswith(\"he\")"
   ]
  },
  {
   "cell_type": "code",
   "execution_count": 23,
   "metadata": {},
   "outputs": [
    {
     "data": {
      "text/plain": [
       "1"
      ]
     },
     "execution_count": 23,
     "metadata": {},
     "output_type": "execute_result"
    }
   ],
   "source": [
    "st=\"hello\"        #it's tell the how many times it cames...count of the letter or word any thing\n",
    "st.count('o')"
   ]
  },
  {
   "cell_type": "code",
   "execution_count": 24,
   "metadata": {},
   "outputs": [
    {
     "data": {
      "text/plain": [
       "8"
      ]
     },
     "execution_count": 24,
     "metadata": {},
     "output_type": "execute_result"
    }
   ],
   "source": [
    "mystring=\"siruseri\"\n",
    "len(mystring)"
   ]
  },
  {
   "cell_type": "code",
   "execution_count": 25,
   "metadata": {},
   "outputs": [
    {
     "name": "stdout",
     "output_type": "stream",
     "text": [
      "serisiru\n"
     ]
    }
   ],
   "source": [
    "def mystery(s):\n",
    "    for i in range(len(s),1,-2):\n",
    "        s = s[1:] + s [0]\n",
    "    return(s)\n",
    "mystring=\"siruseri\"\n",
    "mystery=mystery(mystring)\n",
    "print(mystery)\n"
   ]
  },
  {
   "cell_type": "markdown",
   "metadata": {},
   "source": [
    "## list\n"
   ]
  },
  {
   "cell_type": "code",
   "execution_count": 26,
   "metadata": {},
   "outputs": [
    {
     "name": "stdout",
     "output_type": "stream",
     "text": [
      "['hello', 'world']\n"
     ]
    }
   ],
   "source": [
    "ls2=[10,4,'hello',['hello', 'world'],'hi']\n",
    "print(ls2[3])"
   ]
  },
  {
   "cell_type": "code",
   "execution_count": 27,
   "metadata": {},
   "outputs": [
    {
     "data": {
      "text/plain": [
       "[2]"
      ]
     },
     "execution_count": 27,
     "metadata": {},
     "output_type": "execute_result"
    }
   ],
   "source": [
    "ls3=[2,]\n",
    "ls3"
   ]
  },
  {
   "cell_type": "code",
   "execution_count": 28,
   "metadata": {},
   "outputs": [
    {
     "name": "stdout",
     "output_type": "stream",
     "text": [
      "<class 'list'>\n"
     ]
    }
   ],
   "source": [
    "print(type(ls3))"
   ]
  },
  {
   "cell_type": "code",
   "execution_count": 29,
   "metadata": {},
   "outputs": [
    {
     "name": "stdout",
     "output_type": "stream",
     "text": [
      "world\n"
     ]
    }
   ],
   "source": [
    "print(ls2[3][1])"
   ]
  },
  {
   "cell_type": "code",
   "execution_count": 30,
   "metadata": {},
   "outputs": [
    {
     "name": "stdout",
     "output_type": "stream",
     "text": [
      "r\n"
     ]
    }
   ],
   "source": [
    "print(ls2[3][1][2])"
   ]
  },
  {
   "cell_type": "code",
   "execution_count": 31,
   "metadata": {},
   "outputs": [
    {
     "name": "stdout",
     "output_type": "stream",
     "text": [
      "<class 'list'>\n"
     ]
    }
   ],
   "source": [
    "ls=[]                  #empty list\n",
    "ls1=print(type(ls))"
   ]
  },
  {
   "cell_type": "code",
   "execution_count": 32,
   "metadata": {},
   "outputs": [
    {
     "name": "stdout",
     "output_type": "stream",
     "text": [
      "<class 'list'>\n"
     ]
    }
   ],
   "source": [
    "ls=list()\n",
    "ls4=print(type(ls))"
   ]
  },
  {
   "cell_type": "code",
   "execution_count": 33,
   "metadata": {},
   "outputs": [
    {
     "name": "stdout",
     "output_type": "stream",
     "text": [
      "r\n"
     ]
    }
   ],
   "source": [
    "ls5=[2.5,3,'hi',['hello',['how',['are']]]]       #find r\n",
    "print(ls5[3][1][1][0][1])"
   ]
  },
  {
   "cell_type": "code",
   "execution_count": 34,
   "metadata": {},
   "outputs": [
    {
     "name": "stdout",
     "output_type": "stream",
     "text": [
      "i\n"
     ]
    }
   ],
   "source": [
    "ls6=[3,5,'hello','hi',['hello',['hima',['sri']]]]            #find in sri 'i'\n",
    "print(ls6[4][1][1][0][2])"
   ]
  },
  {
   "cell_type": "code",
   "execution_count": 35,
   "metadata": {},
   "outputs": [
    {
     "name": "stdout",
     "output_type": "stream",
     "text": [
      "[1, 2, 3, 4, 5, 6, 7, 8, 9, 10]\n"
     ]
    }
   ],
   "source": [
    "# list range\n",
    "ls=list(range(1,11))\n",
    "print(ls)"
   ]
  },
  {
   "cell_type": "code",
   "execution_count": 36,
   "metadata": {},
   "outputs": [
    {
     "data": {
      "text/plain": [
       "[1, 4, 7, 10, 13, 16, 19, 22, 25, 28, 31, 34, 37, 40, 43, 46, 49]"
      ]
     },
     "execution_count": 36,
     "metadata": {},
     "output_type": "execute_result"
    }
   ],
   "source": [
    "ls=list(range(1,50,3))\n",
    "ls"
   ]
  },
  {
   "cell_type": "code",
   "execution_count": 37,
   "metadata": {},
   "outputs": [
    {
     "name": "stdout",
     "output_type": "stream",
     "text": [
      "[1, 2, -4, 3.4, 'hi', 'hello']\n"
     ]
    }
   ],
   "source": [
    "# concatenation of list using +\n",
    "ls1=[1,2,-4,3.4]\n",
    "ls2=['hi','hello']\n",
    "ls3=ls1+ls2\n",
    "print(ls3)"
   ]
  },
  {
   "cell_type": "code",
   "execution_count": 38,
   "metadata": {},
   "outputs": [
    {
     "data": {
      "text/plain": [
       "[1, 2, 3, 1, 2, 3, 1, 2, 3]"
      ]
     },
     "execution_count": 38,
     "metadata": {},
     "output_type": "execute_result"
    }
   ],
   "source": [
    "# repetition \n",
    "ls=[1,2,3]\n",
    "ls2 = ls*3\n",
    "ls2"
   ]
  },
  {
   "cell_type": "code",
   "execution_count": 39,
   "metadata": {},
   "outputs": [
    {
     "name": "stdout",
     "output_type": "stream",
     "text": [
      "1\n",
      "2\n",
      "3\n",
      "1\n",
      "2\n",
      "3\n",
      "1\n",
      "2\n",
      "3\n"
     ]
    }
   ],
   "source": [
    "for i in ls2:\n",
    "    print(i)"
   ]
  },
  {
   "cell_type": "code",
   "execution_count": 40,
   "metadata": {},
   "outputs": [
    {
     "name": "stdout",
     "output_type": "stream",
     "text": [
      "enter any number3\n",
      "[3, 6, 9, 12, 15, 18, 21, 24, 27, 30]\n"
     ]
    }
   ],
   "source": [
    "x=int(input(\"enter any number\"))\n",
    "ls=[]\n",
    "for i in range(1,11):\n",
    "     ls = ls + [x*i]\n",
    "print(ls)    "
   ]
  },
  {
   "cell_type": "code",
   "execution_count": 41,
   "metadata": {},
   "outputs": [
    {
     "name": "stdout",
     "output_type": "stream",
     "text": [
      "['c', 'd']\n",
      "['c']\n",
      "['b', 'c']\n",
      "['b', 'c']\n",
      "['b', 'c']\n",
      "['b', 'c']\n"
     ]
    }
   ],
   "source": [
    "# list slicing\n",
    "t=['a','b','c','d','e']     # its take the index values and one more thing is last value takes before index value\n",
    "print(t[2:4])\n",
    "print(t[2:3])\n",
    "print(t[1:3])\n",
    "print(t[1:3])\n",
    "print(t[1:3])\n",
    "print(t[1:3])"
   ]
  },
  {
   "cell_type": "code",
   "execution_count": 42,
   "metadata": {},
   "outputs": [
    {
     "name": "stdout",
     "output_type": "stream",
     "text": [
      "['a', 'b', 'c', 10, 'e']\n"
     ]
    }
   ],
   "source": [
    "# list are MUTABLE\n",
    "t=['a','b','c','d','e']\n",
    "t[3]=10\n",
    "print(t)   "
   ]
  },
  {
   "cell_type": "code",
   "execution_count": 43,
   "metadata": {},
   "outputs": [
    {
     "name": "stdout",
     "output_type": "stream",
     "text": [
      "['a', 'b', 'c', 10, 11, 3, 'f']\n"
     ]
    }
   ],
   "source": [
    "t=['a','b','c','d','e','f']\n",
    "t[3:5]=[10,11,3]\n",
    "print(t)"
   ]
  },
  {
   "cell_type": "code",
   "execution_count": 44,
   "metadata": {},
   "outputs": [
    {
     "name": "stdout",
     "output_type": "stream",
     "text": [
      "23\n",
      "4\n",
      "5\n",
      "hi\n",
      "35\n"
     ]
    }
   ],
   "source": [
    "ls=[23,4,5,'hi',35]\n",
    "for i in ls:\n",
    "    print(i)"
   ]
  },
  {
   "cell_type": "code",
   "execution_count": 45,
   "metadata": {},
   "outputs": [
    {
     "name": "stdout",
     "output_type": "stream",
     "text": [
      "23\n",
      "4\n",
      "5\n",
      "hi\n",
      "35\n"
     ]
    }
   ],
   "source": [
    "for i in range(len(ls)):\n",
    "    print(ls[i])"
   ]
  },
  {
   "cell_type": "markdown",
   "metadata": {},
   "source": [
    "## bulit in list functions"
   ]
  },
  {
   "cell_type": "markdown",
   "metadata": {},
   "source": [
    "#### \n",
    "- append()\n",
    "- extend()\n",
    "- sort()\n",
    "- pop()\n",
    "- reverse()\n",
    "- remove()\n",
    "- clear()\n",
    "- count()\n",
    "- insert() \n",
    "- #### few more methods/statements\n",
    "- sorted\n",
    "- def\n"
   ]
  },
  {
   "cell_type": "code",
   "execution_count": 46,
   "metadata": {},
   "outputs": [
    {
     "name": "stdout",
     "output_type": "stream",
     "text": [
      "[1, 2, 3, 4]\n"
     ]
    }
   ],
   "source": [
    "# append\n",
    "ls1=[1,2,3]\n",
    "ls1.append(4)\n",
    "print(ls1)"
   ]
  },
  {
   "cell_type": "code",
   "execution_count": 47,
   "metadata": {},
   "outputs": [
    {
     "name": "stdout",
     "output_type": "stream",
     "text": [
      "[3, 4, 5, 6, 'string', [1, 2, 3, 4, 5]]\n"
     ]
    }
   ],
   "source": [
    "ls1=[1,2,3,4,5]\n",
    "ls2=[3,4,5,6,'string']\n",
    "ls2.append(ls1) # if we take multiple element\n",
    "print(ls2)"
   ]
  },
  {
   "cell_type": "code",
   "execution_count": 48,
   "metadata": {},
   "outputs": [
    {
     "name": "stdout",
     "output_type": "stream",
     "text": [
      "[3, 4, 5, 6, 'string', 1, 2, 3, 4, 5]\n"
     ]
    }
   ],
   "source": [
    "# extend\n",
    "ls1=[1,2,3,4,5]\n",
    "ls2=[3,4,5,6,'string']\n",
    "ls2.extend(ls1) \n",
    "print(ls2)"
   ]
  },
  {
   "cell_type": "code",
   "execution_count": 49,
   "metadata": {},
   "outputs": [
    {
     "name": "stdout",
     "output_type": "stream",
     "text": [
      "[0, 1, 2, 2, 4, 6, 6, 8, 95]\n"
     ]
    }
   ],
   "source": [
    "# sort\n",
    "ls=[2,6,2,1,8,6,0,95,4]   # sorting a list in ascending order\n",
    "ls.sort()\n",
    "print(ls)"
   ]
  },
  {
   "cell_type": "code",
   "execution_count": 50,
   "metadata": {},
   "outputs": [
    {
     "name": "stdout",
     "output_type": "stream",
     "text": [
      "[765, 234, 88, 9, 7, 6, 4, 3, 2, 1]\n"
     ]
    }
   ],
   "source": [
    "ls=[3,2,6,4,7,88,9,765,234,1]\n",
    "ls.sort(reverse=True)\n",
    "print(ls)"
   ]
  },
  {
   "cell_type": "code",
   "execution_count": 51,
   "metadata": {},
   "outputs": [
    {
     "name": "stdout",
     "output_type": "stream",
     "text": [
      "sorted list [4, 4, 5, 7, 8, 9, 11, 23, 53]\n",
      "original list [4, 5, 7, 23, 8, 4, 9, 11, 53]\n"
     ]
    }
   ],
   "source": [
    "#sorted\n",
    "ls=[4,5,7,23,8,4,9,11,53]\n",
    "ls1=sorted(ls)\n",
    "print(\"sorted list\",ls1)\n",
    "print(\"original list\",ls)"
   ]
  },
  {
   "cell_type": "code",
   "execution_count": 52,
   "metadata": {},
   "outputs": [
    {
     "name": "stdout",
     "output_type": "stream",
     "text": [
      "Ascending [4, 4, 5, 7, 8, 9, 11, 23, 53]\n",
      "Descending [53, 23, 11, 9, 8, 7, 5, 4, 4]\n",
      "original list [4, 5, 7, 23, 8, 4, 9, 11, 53]\n"
     ]
    }
   ],
   "source": [
    "ls2=sorted(ls,reverse=True)\n",
    "print(\"Ascending\",ls1)\n",
    "print(\"Descending\",ls2)\n",
    "print(\"original list\",ls)"
   ]
  },
  {
   "cell_type": "code",
   "execution_count": 53,
   "metadata": {},
   "outputs": [
    {
     "name": "stdout",
     "output_type": "stream",
     "text": [
      "[3, 5, 2, 5, 4, 32, 6, 7, 8]\n"
     ]
    }
   ],
   "source": [
    "# pop                        it is like linked list\n",
    "ls=[3,5,2,5,4,32,6,7,8,22]\n",
    "x=ls.pop()                      # last element will be pop up,default\n",
    "print(ls)"
   ]
  },
  {
   "cell_type": "code",
   "execution_count": 54,
   "metadata": {},
   "outputs": [
    {
     "name": "stdout",
     "output_type": "stream",
     "text": [
      "[3, 5, 2, 6, 45, 3, 7, 2]\n"
     ]
    }
   ],
   "source": [
    "ls1=[3,5,2,6,8,45,3,7,2]\n",
    "x=ls1.pop(4)                  # given indexed element will be delete\n",
    "print(ls1)"
   ]
  },
  {
   "cell_type": "code",
   "execution_count": 55,
   "metadata": {},
   "outputs": [
    {
     "name": "stdout",
     "output_type": "stream",
     "text": [
      "[4, 2, 6, 7, 3, 245, 12, 67]\n"
     ]
    }
   ],
   "source": [
    "ls2=[2,4,2,6,7,3,245,12,67]\n",
    "x=ls2.remove(2)              # delete a requried element using remove() \n",
    "print(ls2)"
   ]
  },
  {
   "cell_type": "code",
   "execution_count": 56,
   "metadata": {},
   "outputs": [
    {
     "name": "stdout",
     "output_type": "stream",
     "text": [
      "[2, 3, 6, 45, 7, 4]\n"
     ]
    }
   ],
   "source": [
    "ls3=[2,3,5,6,45,7,4]\n",
    "del ls3[2]                     # it remove the  index\n",
    "print(ls3)"
   ]
  },
  {
   "cell_type": "code",
   "execution_count": 57,
   "metadata": {},
   "outputs": [
    {
     "name": "stdout",
     "output_type": "stream",
     "text": [
      "[45, 6, 5, 3, 2]\n"
     ]
    }
   ],
   "source": [
    "ls3=[2,3,5,6,45]\n",
    "ls3.reverse()     \n",
    "print(ls3)"
   ]
  },
  {
   "cell_type": "code",
   "execution_count": 58,
   "metadata": {},
   "outputs": [
    {
     "name": "stdout",
     "output_type": "stream",
     "text": [
      "[]\n"
     ]
    }
   ],
   "source": [
    "ls4=[3,3,532,2,6]    # clear function\n",
    "ls4.clear()\n",
    "print(ls4)"
   ]
  },
  {
   "cell_type": "code",
   "execution_count": 59,
   "metadata": {},
   "outputs": [
    {
     "name": "stdout",
     "output_type": "stream",
     "text": [
      "3\n"
     ]
    }
   ],
   "source": [
    "ls5=[1,3,2,5,6,4,-12,2,2,4,4,5,5]\n",
    "x=ls5.count(5)                        # counting \n",
    "print(x)"
   ]
  },
  {
   "cell_type": "code",
   "execution_count": 60,
   "metadata": {},
   "outputs": [
    {
     "name": "stdout",
     "output_type": "stream",
     "text": [
      "[1, 3, 2, 5, 6, 4, -12, 64, 2, 2, 4, 4, 5, 5]\n"
     ]
    }
   ],
   "source": [
    "ls5=[1,3,2,5,6,4,-12,2,2,4,4,5,5]\n",
    "ls5.insert(7,64)                        # inserting ask\n",
    "print(ls5)"
   ]
  },
  {
   "cell_type": "code",
   "execution_count": 61,
   "metadata": {},
   "outputs": [
    {
     "name": "stdout",
     "output_type": "stream",
     "text": [
      "enter a number :3\n",
      "enter the number :2\n",
      "enter the number :4\n",
      "enter the number :5\n",
      "3.6666666666666665\n"
     ]
    }
   ],
   "source": [
    "#eg 1\n",
    "n=int(input(\"enter a number :\"))\n",
    "a=[]\n",
    "s=0\n",
    "sumsq=5\n",
    "for i in range (0,n):\n",
    "    x=int(input(\"enter the number :\"))\n",
    "    s=s+x\n",
    "    sumsq=sumsq + x*x\n",
    "average = s/n\n",
    "print(average)\n",
    "\n",
    "\n"
   ]
  },
  {
   "cell_type": "markdown",
   "metadata": {},
   "source": [
    "#### split function\n"
   ]
  },
  {
   "cell_type": "code",
   "execution_count": 62,
   "metadata": {},
   "outputs": [
    {
     "data": {
      "text/plain": [
       "'he'"
      ]
     },
     "execution_count": 62,
     "metadata": {},
     "output_type": "execute_result"
    }
   ],
   "source": [
    "s='hello'\n",
    "s[0:2]"
   ]
  },
  {
   "cell_type": "code",
   "execution_count": 63,
   "metadata": {},
   "outputs": [
    {
     "name": "stdout",
     "output_type": "stream",
     "text": [
      "st[0:5] is hello\n",
      "st[2:5] is llo\n",
      "st[:5] is hello\n",
      "st[6:5] is \n"
     ]
    }
   ],
   "source": [
    "st=\"hello world\"\n",
    "print(\"st[0:5] is\", st[0:5])\n",
    "print(\"st[2:5] is\", st[2:5]) \n",
    "print(\"st[:5] is\", st[:5])\n",
    "print(\"st[6:5] is\", st[6:5])"
   ]
  },
  {
   "cell_type": "code",
   "execution_count": 64,
   "metadata": {},
   "outputs": [
    {
     "name": "stdout",
     "output_type": "stream",
     "text": [
      "['hello', 'how', 'are', 'you?']\n"
     ]
    }
   ],
   "source": [
    "               \n",
    "s = \"hello how are you?\"\n",
    "ls=s.split(' ')     #getting list of strings from a sentence\n",
    "print(ls)"
   ]
  },
  {
   "cell_type": "code",
   "execution_count": 65,
   "metadata": {},
   "outputs": [
    {
     "name": "stdout",
     "output_type": "stream",
     "text": [
      "['06', '02', '1996']\n"
     ]
    }
   ],
   "source": [
    "d='06/02/1996'                    # for date\n",
    "ls=d.split('/')\n",
    "print(ls)"
   ]
  },
  {
   "cell_type": "code",
   "execution_count": 66,
   "metadata": {},
   "outputs": [
    {
     "name": "stdout",
     "output_type": "stream",
     "text": [
      "['', 'ello ', 'ow are you']\n"
     ]
    }
   ],
   "source": [
    "s='hello how are you'\n",
    "ls=s.split('h')          #string to split\n",
    "print(ls)"
   ]
  },
  {
   "cell_type": "code",
   "execution_count": 67,
   "metadata": {},
   "outputs": [
    {
     "name": "stdout",
     "output_type": "stream",
     "text": [
      "hello##how##are##you\n"
     ]
    }
   ],
   "source": [
    "ls=['hello','how','are','you']\n",
    "s='##'\n",
    "s1=s.join(ls)\n",
    "print(s1)"
   ]
  },
  {
   "cell_type": "code",
   "execution_count": 68,
   "metadata": {},
   "outputs": [
    {
     "name": "stdout",
     "output_type": "stream",
     "text": [
      "enter a string  :hello\n",
      "helo\n"
     ]
    }
   ],
   "source": [
    "# eg 2\n",
    "s=input(\"enter a string  :\")\n",
    "if len(s)<2:\n",
    "    print(s)\n",
    "else:    \n",
    "    print(s[:2]+s[-2:])"
   ]
  },
  {
   "cell_type": "code",
   "execution_count": 69,
   "metadata": {},
   "outputs": [
    {
     "name": "stdout",
     "output_type": "stream",
     "text": [
      "enter the string  :hihello\n",
      "hhlo\n"
     ]
    }
   ],
   "source": [
    "# eg 4...print even number for string\n",
    "s=input(\"enter the string  :\")\n",
    "print(s[0::2])"
   ]
  },
  {
   "cell_type": "code",
   "execution_count": 70,
   "metadata": {},
   "outputs": [
    {
     "name": "stdout",
     "output_type": "stream",
     "text": [
      "hello how are you?\n",
      "hellohowareyou?\n"
     ]
    }
   ],
   "source": [
    "# eg 3...without spaces\n",
    "str=\"hello how are you?\"\n",
    "print(str)\n",
    "print(str.replace(' ',''))\n"
   ]
  },
  {
   "cell_type": "code",
   "execution_count": 71,
   "metadata": {},
   "outputs": [
    {
     "name": "stdout",
     "output_type": "stream",
     "text": [
      "enter a string :himasri\n",
      "iimasrh\n"
     ]
    }
   ],
   "source": [
    "# eg 5\n",
    "s=input(\"enter a string :\")\n",
    "s1=s[-1]+s[1:-1]+s[0]\n",
    "print(s1)"
   ]
  },
  {
   "cell_type": "markdown",
   "metadata": {},
   "source": [
    "### list"
   ]
  },
  {
   "cell_type": "code",
   "execution_count": 72,
   "metadata": {},
   "outputs": [
    {
     "data": {
      "text/plain": [
       "1899497197320"
      ]
     },
     "execution_count": 72,
     "metadata": {},
     "output_type": "execute_result"
    }
   ],
   "source": [
    "\n",
    "x=10                    #id of y is same as that of x,because values are same\n",
    "id(ls1)                   # That is,y is just an alis for x\n"
   ]
  },
  {
   "cell_type": "code",
   "execution_count": 73,
   "metadata": {},
   "outputs": [
    {
     "data": {
      "text/plain": [
       "1899496576648"
      ]
     },
     "execution_count": 73,
     "metadata": {},
     "output_type": "execute_result"
    }
   ],
   "source": [
    "y=x\n",
    "id(ls2)"
   ]
  },
  {
   "cell_type": "code",
   "execution_count": 74,
   "metadata": {},
   "outputs": [
    {
     "data": {
      "text/plain": [
       "140731733546240"
      ]
     },
     "execution_count": 74,
     "metadata": {},
     "output_type": "execute_result"
    }
   ],
   "source": [
    "y=15                         # when value get changed automatically get changed by python\n",
    "id(y)"
   ]
  },
  {
   "cell_type": "code",
   "execution_count": 75,
   "metadata": {},
   "outputs": [
    {
     "name": "stdout",
     "output_type": "stream",
     "text": [
      "[1, 2, 3, 4]\n"
     ]
    }
   ],
   "source": [
    "ls1=[1,2,3,4]\n",
    "ls2=ls1\n",
    "print(ls2)"
   ]
  },
  {
   "cell_type": "code",
   "execution_count": 76,
   "metadata": {},
   "outputs": [
    {
     "data": {
      "text/plain": [
       "1899496721352"
      ]
     },
     "execution_count": 76,
     "metadata": {},
     "output_type": "execute_result"
    }
   ],
   "source": [
    "id(ls1)\n"
   ]
  },
  {
   "cell_type": "code",
   "execution_count": 77,
   "metadata": {},
   "outputs": [
    {
     "data": {
      "text/plain": [
       "1899496721352"
      ]
     },
     "execution_count": 77,
     "metadata": {},
     "output_type": "execute_result"
    }
   ],
   "source": [
    "id(ls2)"
   ]
  },
  {
   "cell_type": "code",
   "execution_count": 78,
   "metadata": {},
   "outputs": [
    {
     "name": "stdout",
     "output_type": "stream",
     "text": [
      "[1, 2, 500, 4]\n"
     ]
    }
   ],
   "source": [
    "ls1[2]=500\n",
    "print(ls1)"
   ]
  },
  {
   "cell_type": "code",
   "execution_count": 79,
   "metadata": {},
   "outputs": [
    {
     "name": "stdout",
     "output_type": "stream",
     "text": [
      "[1, 2, 3, 4, 5]\n"
     ]
    }
   ],
   "source": [
    "ls1=[1,2,3,4,5]\n",
    "ls2=ls1.copy()\n",
    "print(ls2)"
   ]
  },
  {
   "cell_type": "code",
   "execution_count": 80,
   "metadata": {},
   "outputs": [
    {
     "data": {
      "text/plain": [
       "1899497162312"
      ]
     },
     "execution_count": 80,
     "metadata": {},
     "output_type": "execute_result"
    }
   ],
   "source": [
    "id(ls1)"
   ]
  },
  {
   "cell_type": "code",
   "execution_count": 81,
   "metadata": {},
   "outputs": [
    {
     "data": {
      "text/plain": [
       "1899497402504"
      ]
     },
     "execution_count": 81,
     "metadata": {},
     "output_type": "execute_result"
    }
   ],
   "source": [
    "id(ls2)"
   ]
  },
  {
   "cell_type": "code",
   "execution_count": 82,
   "metadata": {},
   "outputs": [
    {
     "name": "stdout",
     "output_type": "stream",
     "text": [
      "[1, 2, 20, 4, 5]\n",
      "[1, 2, 3, 4, 5]\n"
     ]
    }
   ],
   "source": [
    "ls1[2]=20\n",
    "print(ls1)\n",
    "print(ls2)"
   ]
  },
  {
   "cell_type": "code",
   "execution_count": 83,
   "metadata": {},
   "outputs": [
    {
     "name": "stdout",
     "output_type": "stream",
     "text": [
      "[1, 2, 15, 4, 5]\n",
      "[1, 2, 20, 4, 5]\n"
     ]
    }
   ],
   "source": [
    "ls2[2]=15\n",
    "print(ls2)\n",
    "print(ls1)"
   ]
  },
  {
   "cell_type": "code",
   "execution_count": 84,
   "metadata": {},
   "outputs": [
    {
     "name": "stdout",
     "output_type": "stream",
     "text": [
      "[1, 2, [3, 4], 5]\n"
     ]
    }
   ],
   "source": [
    "ls1=[1,2,[3,4],5]\n",
    "ls2=ls1.copy()\n",
    "print(ls2)"
   ]
  },
  {
   "cell_type": "code",
   "execution_count": 85,
   "metadata": {},
   "outputs": [
    {
     "name": "stdout",
     "output_type": "stream",
     "text": [
      "[1, 2, [12, 4], 5]\n"
     ]
    }
   ],
   "source": [
    "ls1[2][0]=12\n",
    "print(ls1)"
   ]
  },
  {
   "cell_type": "code",
   "execution_count": 86,
   "metadata": {},
   "outputs": [
    {
     "name": "stdout",
     "output_type": "stream",
     "text": [
      "hima@iee.org\n",
      "hima@iee.org\n"
     ]
    }
   ],
   "source": [
    "s=\"From hima@iee.org wed feb 21 09:14:16 2018\"\n",
    "ls=s.split(\" \")[1]                                    # exract domian in line hima@iee.org\n",
    "domain=ls.split(\" \")[0]\n",
    "print(domain)\n",
    "print(ls)"
   ]
  },
  {
   "cell_type": "code",
   "execution_count": 87,
   "metadata": {},
   "outputs": [
    {
     "data": {
      "text/plain": [
       "'hima@iee.org wed feb 21 09:14:16 2018'"
      ]
     },
     "execution_count": 87,
     "metadata": {},
     "output_type": "execute_result"
    }
   ],
   "source": [
    "s1=\"From hima@iee.org wed feb 21 09:14:16 2018\"\n",
    "ls=s1[5:]\n",
    "ls"
   ]
  },
  {
   "cell_type": "code",
   "execution_count": null,
   "metadata": {},
   "outputs": [],
   "source": []
  },
  {
   "cell_type": "code",
   "execution_count": null,
   "metadata": {},
   "outputs": [],
   "source": []
  },
  {
   "cell_type": "code",
   "execution_count": null,
   "metadata": {},
   "outputs": [],
   "source": []
  }
 ],
 "metadata": {
  "kernelspec": {
   "display_name": "Python 3",
   "language": "python",
   "name": "python3"
  },
  "language_info": {
   "codemirror_mode": {
    "name": "ipython",
    "version": 3
   },
   "file_extension": ".py",
   "mimetype": "text/x-python",
   "name": "python",
   "nbconvert_exporter": "python",
   "pygments_lexer": "ipython3",
   "version": "3.7.3"
  }
 },
 "nbformat": 4,
 "nbformat_minor": 2
}
