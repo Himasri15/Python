{
 "cells": [
  {
   "cell_type": "code",
   "execution_count": 1,
   "metadata": {},
   "outputs": [],
   "source": [
    "import math"
   ]
  },
  {
   "cell_type": "code",
   "execution_count": 2,
   "metadata": {},
   "outputs": [
    {
     "data": {
      "text/plain": [
       "3.0"
      ]
     },
     "execution_count": 2,
     "metadata": {},
     "output_type": "execute_result"
    }
   ],
   "source": [
    "math.sqrt(9)"
   ]
  },
  {
   "cell_type": "code",
   "execution_count": 3,
   "metadata": {},
   "outputs": [
    {
     "data": {
      "text/plain": [
       "6.782329983125268"
      ]
     },
     "execution_count": 3,
     "metadata": {},
     "output_type": "execute_result"
    }
   ],
   "source": [
    "math.sqrt(46)"
   ]
  },
  {
   "cell_type": "code",
   "execution_count": 4,
   "metadata": {},
   "outputs": [
    {
     "data": {
      "text/plain": [
       "3.141592653589793"
      ]
     },
     "execution_count": 4,
     "metadata": {},
     "output_type": "execute_result"
    }
   ],
   "source": [
    "math.pi"
   ]
  },
  {
   "cell_type": "code",
   "execution_count": 5,
   "metadata": {},
   "outputs": [],
   "source": [
    "import math"
   ]
  },
  {
   "cell_type": "code",
   "execution_count": 6,
   "metadata": {},
   "outputs": [
    {
     "name": "stdout",
     "output_type": "stream",
     "text": [
      "enter the value of r:7\n",
      "153.86\n"
     ]
    }
   ],
   "source": [
    "r=int(input('enter the value of r:'))\n",
    "area=3.14*(r**2)\n",
    "print(area)"
   ]
  },
  {
   "cell_type": "code",
   "execution_count": 7,
   "metadata": {},
   "outputs": [
    {
     "name": "stdout",
     "output_type": "stream",
     "text": [
      "enter the value of b :6\n",
      "enter the value of h :9\n",
      "27.0\n"
     ]
    }
   ],
   "source": [
    "b=int(input('enter the value of b :'))\n",
    "h=int(input('enter the value of h :'))\n",
    "t=1/2*b*h\n",
    "print(t)"
   ]
  },
  {
   "cell_type": "code",
   "execution_count": 8,
   "metadata": {},
   "outputs": [
    {
     "name": "stdout",
     "output_type": "stream",
     "text": [
      "Base is  6\n"
     ]
    }
   ],
   "source": [
    "print('Base is ',b)"
   ]
  },
  {
   "cell_type": "code",
   "execution_count": 9,
   "metadata": {},
   "outputs": [
    {
     "name": "stdout",
     "output_type": "stream",
     "text": [
      "hello Himasri\n"
     ]
    }
   ],
   "source": [
    "print('hello', end=' ')\n",
    "print('Himasri')\n"
   ]
  },
  {
   "cell_type": "code",
   "execution_count": 10,
   "metadata": {},
   "outputs": [
    {
     "name": "stdout",
     "output_type": "stream",
     "text": [
      "Hello@World\n"
     ]
    }
   ],
   "source": [
    "print('Hello','World',sep='@')"
   ]
  },
  {
   "cell_type": "code",
   "execution_count": 11,
   "metadata": {},
   "outputs": [
    {
     "name": "stdout",
     "output_type": "stream",
     "text": [
      "value of a is 1.67, value of b is 3.500\n"
     ]
    }
   ],
   "source": [
    "a=5/3\n",
    "b=7/2\n",
    "print(\"value of a is {0:.2f}, value of b is {1:.3f}\".format(a,b))"
   ]
  },
  {
   "cell_type": "code",
   "execution_count": 12,
   "metadata": {},
   "outputs": [
    {
     "name": "stdout",
     "output_type": "stream",
     "text": [
      "value of a is 1.67\n",
      "value of b is 3.500\n"
     ]
    }
   ],
   "source": [
    "a=5/3\n",
    "b=7/2    #2f or 3f will give how many decimal points should be there after'.'\n",
    "print(\"value of a is {0:.2f}\".format(a))\n",
    "print(\"value of b is {0:.3f}\".format(b))"
   ]
  },
  {
   "cell_type": "code",
   "execution_count": 13,
   "metadata": {},
   "outputs": [
    {
     "data": {
      "text/plain": [
       "'o'"
      ]
     },
     "execution_count": 13,
     "metadata": {},
     "output_type": "execute_result"
    }
   ],
   "source": [
    "max ('hello')"
   ]
  },
  {
   "cell_type": "code",
   "execution_count": 14,
   "metadata": {},
   "outputs": [
    {
     "data": {
      "text/plain": [
       "builtin_function_or_method"
      ]
     },
     "execution_count": 14,
     "metadata": {},
     "output_type": "execute_result"
    }
   ],
   "source": [
    "type(max)"
   ]
  },
  {
   "cell_type": "code",
   "execution_count": 15,
   "metadata": {},
   "outputs": [
    {
     "data": {
      "text/plain": [
       "'e'"
      ]
     },
     "execution_count": 15,
     "metadata": {},
     "output_type": "execute_result"
    }
   ],
   "source": [
    "min('hello')"
   ]
  },
  {
   "cell_type": "code",
   "execution_count": 16,
   "metadata": {},
   "outputs": [
    {
     "data": {
      "text/plain": [
       "7"
      ]
     },
     "execution_count": 16,
     "metadata": {},
     "output_type": "execute_result"
    }
   ],
   "source": [
    "len('himasri')"
   ]
  },
  {
   "cell_type": "markdown",
   "metadata": {},
   "source": [
    "## conditional statement...\n",
    "- if statement\n",
    "- else\n",
    "- elif"
   ]
  },
  {
   "cell_type": "code",
   "execution_count": 17,
   "metadata": {},
   "outputs": [
    {
     "name": "stdout",
     "output_type": "stream",
     "text": [
      "Enter marks: 69\n",
      "pass\n",
      "Over!!\n"
     ]
    }
   ],
   "source": [
    "marks=int(input('Enter marks: '))\n",
    "if marks<40 :\n",
    "    print('Fail')\n",
    "elif marks>40 :\n",
    "    print('pass')\n",
    "print('Over!!')    "
   ]
  },
  {
   "cell_type": "code",
   "execution_count": 18,
   "metadata": {},
   "outputs": [
    {
     "name": "stdout",
     "output_type": "stream",
     "text": [
      "enter the marks: 90\n",
      "Good\n",
      "over\n"
     ]
    }
   ],
   "source": [
    "# if else statement\n",
    "marks = int(input('enter the marks: '))\n",
    "if marks<60 :\n",
    "    print('Bad')\n",
    "else :\n",
    "    print('Good')\n",
    "print('over')    "
   ]
  },
  {
   "cell_type": "code",
   "execution_count": 19,
   "metadata": {},
   "outputs": [
    {
     "name": "stdout",
     "output_type": "stream",
     "text": [
      "enter the marks: 50\n",
      "3rd class\n"
     ]
    }
   ],
   "source": [
    "# if elif statement\n",
    "marks=float(input('enter the marks: '))\n",
    "if marks >= 80:\n",
    "    print('1st class')\n",
    "elif marks >=60 and marks<80:\n",
    "    print('2nd class')\n",
    "elif marks >=40 and marks<60:\n",
    "    print('3rd class')\n",
    "elif marks >=35 and marks<40:\n",
    "    print('pass')\n",
    "else:\n",
    "    print('Fail')\n"
   ]
  },
  {
   "cell_type": "code",
   "execution_count": 20,
   "metadata": {},
   "outputs": [
    {
     "name": "stdout",
     "output_type": "stream",
     "text": [
      "enter marks: 80\n",
      "1st class\n"
     ]
    }
   ],
   "source": [
    "#nested statement\n",
    "marks=float(input('enter marks: '))\n",
    "if marks>=60:\n",
    "    if marks<100:\n",
    "         print('1st class')\n",
    "else:\n",
    "    print('2nd class')"
   ]
  },
  {
   "cell_type": "markdown",
   "metadata": {},
   "source": [
    "## looping structures\n"
   ]
  },
  {
   "cell_type": "code",
   "execution_count": 21,
   "metadata": {},
   "outputs": [
    {
     "name": "stdout",
     "output_type": "stream",
     "text": [
      "10\n",
      "11\n",
      "12\n",
      "13\n",
      "14\n",
      "15\n",
      "16\n",
      "17\n",
      "18\n",
      "19\n",
      "over\n"
     ]
    }
   ],
   "source": [
    "# while loop\n",
    "x=10\n",
    "while x<20:\n",
    "    print(x)\n",
    "    x=x+1\n",
    "print('over')    "
   ]
  },
  {
   "cell_type": "code",
   "execution_count": 22,
   "metadata": {},
   "outputs": [
    {
     "name": "stdout",
     "output_type": "stream",
     "text": [
      "enter the number: 4\n",
      "you have succesfully entered a positive number!\n"
     ]
    }
   ],
   "source": [
    "# illustration of break\n",
    "while True:\n",
    "    num=int(input('enter the number: '))\n",
    "    if num>0:\n",
    "        print('you have succesfully entered a positive number!')\n",
    "        break"
   ]
  },
  {
   "cell_type": "code",
   "execution_count": 23,
   "metadata": {},
   "outputs": [
    {
     "name": "stdout",
     "output_type": "stream",
     "text": [
      "enter the number: 2\n",
      "enter the number: 6\n",
      "enter the number: 1\n",
      "enter the number: -1\n",
      "exist entered a negative value\n",
      "sum of all positive numbers =  9\n"
     ]
    }
   ],
   "source": [
    "#sum of all positive number\n",
    "total=0\n",
    "while True:\n",
    "    x=int(input('enter the number: '))\n",
    "    if x<0:\n",
    "        print('exist entered a negative value') \n",
    "        break\n",
    "    else:\n",
    "        total=total+x\n",
    "print('sum of all positive numbers = ',total)  "
   ]
  },
  {
   "cell_type": "code",
   "execution_count": 24,
   "metadata": {},
   "outputs": [
    {
     "name": "stdout",
     "output_type": "stream",
     "text": [
      "0 1 2 3 4 5 6 7 8 9 "
     ]
    }
   ],
   "source": [
    "# for loop\n",
    "# syntax for range() method: range(start,end,stride)\n",
    "for i in range(10):\n",
    "     print(i, end=' ')"
   ]
  },
  {
   "cell_type": "code",
   "execution_count": 25,
   "metadata": {},
   "outputs": [
    {
     "name": "stdout",
     "output_type": "stream",
     "text": [
      "5 6 7 8 9 "
     ]
    }
   ],
   "source": [
    "for i in range(5,10,1):\n",
    "     print(i, end=' ')"
   ]
  },
  {
   "cell_type": "code",
   "execution_count": 26,
   "metadata": {},
   "outputs": [
    {
     "name": "stdout",
     "output_type": "stream",
     "text": [
      "2 6 10 14 18 "
     ]
    }
   ],
   "source": [
    "for i in range(2,20,4):\n",
    "    print(i, end=' ')"
   ]
  },
  {
   "cell_type": "code",
   "execution_count": 27,
   "metadata": {},
   "outputs": [
    {
     "name": "stdout",
     "output_type": "stream",
     "text": [
      "h\n",
      "e\n",
      "l\n",
      "l\n",
      "o\n"
     ]
    }
   ],
   "source": [
    "for i in'hello':\n",
    "    print(i)"
   ]
  },
  {
   "cell_type": "code",
   "execution_count": 28,
   "metadata": {},
   "outputs": [
    {
     "name": "stdout",
     "output_type": "stream",
     "text": [
      "20 16 12 8 4 "
     ]
    }
   ],
   "source": [
    "for i in range(20,2,-4):\n",
    "    print(i, end=' ')"
   ]
  },
  {
   "cell_type": "code",
   "execution_count": 29,
   "metadata": {
    "scrolled": true
   },
   "outputs": [
    {
     "name": "stdout",
     "output_type": "stream",
     "text": [
      "0 0\n",
      "0 1\n",
      "0 2\n",
      "0 3\n",
      "1 0\n",
      "1 1\n",
      "1 2\n",
      "1 3\n",
      "2 0\n",
      "2 1\n",
      "2 2\n",
      "2 3\n"
     ]
    }
   ],
   "source": [
    "for i in range(3):\n",
    "    for j in range(4):\n",
    "        print(i,j)"
   ]
  },
  {
   "cell_type": "markdown",
   "metadata": {},
   "source": [
    "## functions"
   ]
  },
  {
   "cell_type": "code",
   "execution_count": 30,
   "metadata": {},
   "outputs": [
    {
     "name": "stdout",
     "output_type": "stream",
     "text": [
      "user defined function\n",
      "Inside the function\n",
      "Hello\n",
      "hi\n",
      "over\n"
     ]
    }
   ],
   "source": [
    "# parameters\n",
    "def fname():\n",
    "    print('Inside the function')\n",
    "    print('Hello')\n",
    "    print('hi')\n",
    "print('user defined function')\n",
    "fname()\n",
    "print('over')"
   ]
  },
  {
   "cell_type": "code",
   "execution_count": 31,
   "metadata": {},
   "outputs": [
    {
     "name": "stdout",
     "output_type": "stream",
     "text": [
      "enter the 1st number 9\n",
      "enter the 2ndnumber 4\n",
      "product is:  36\n"
     ]
    }
   ],
   "source": [
    "# find product of two numbers\n",
    "def prod(x,y):\n",
    "    result=x*y\n",
    "    print('product is: ',result)\n",
    "a=int(input('enter the 1st number ')) \n",
    "b=int(input('enter the 2ndnumber ' ))\n",
    "prod(a,b)"
   ]
  },
  {
   "cell_type": "code",
   "execution_count": 32,
   "metadata": {},
   "outputs": [
    {
     "name": "stdout",
     "output_type": "stream",
     "text": [
      "enter the 1st number 3\n",
      "enter the 2ndnumber 1\n",
      "product is 3\n"
     ]
    }
   ],
   "source": [
    "# return value\n",
    "def prod(x,y):\n",
    "    result=x*y\n",
    "    return result\n",
    "a=int(input('enter the 1st number ')) \n",
    "b=int(input('enter the 2ndnumber ' ))\n",
    "r=prod(a,b)\n",
    "print('product is',r)"
   ]
  },
  {
   "cell_type": "code",
   "execution_count": 33,
   "metadata": {},
   "outputs": [
    {
     "name": "stdout",
     "output_type": "stream",
     "text": [
      "Exampleof function arguments\n",
      "Inside test()\n",
      "Argument is  hello hello hello \n",
      "Inside test()\n",
      "Argument is  60\n",
      "Inside test()\n",
      "Argument is  0\n"
     ]
    }
   ],
   "source": [
    "def test(var):\n",
    "    print(\"Inside test()\")\n",
    "    print(\"Argument is \",var)\n",
    "print(\"Exampleof function arguments\")\n",
    "x=\"hello \"\n",
    "test(x*3)\n",
    "y=20\n",
    "test(y*3)\n",
    "z=0\n",
    "test(z*3)"
   ]
  },
  {
   "cell_type": "code",
   "execution_count": 34,
   "metadata": {},
   "outputs": [
    {
     "data": {
      "text/plain": [
       "1296"
      ]
     },
     "execution_count": 34,
     "metadata": {},
     "output_type": "execute_result"
    }
   ],
   "source": [
    "#example 1\n",
    "def h(m,n):\n",
    "    ans=1\n",
    "    while(n>0):\n",
    "        ans=ans*m\n",
    "        n=n-2\n",
    "    return(ans)\n",
    "h(6,8)"
   ]
  },
  {
   "cell_type": "markdown",
   "metadata": {},
   "source": [
    "## Recursive Function"
   ]
  },
  {
   "cell_type": "code",
   "execution_count": 35,
   "metadata": {},
   "outputs": [
    {
     "name": "stdout",
     "output_type": "stream",
     "text": [
      "enter a non nagative integer: 5\n",
      "factorial of 5 is 120\n"
     ]
    }
   ],
   "source": [
    "def f(m): #factorial\n",
    "    if m== 0:\n",
    "        return(1)\n",
    "    else:\n",
    "        return(m*f(m-1))\n",
    "n = int(input('enter a non nagative integer: '))\n",
    "if n<0:\n",
    "    print('Invalid input !!')\n",
    "else:\n",
    "    fact = f(n)\n",
    "    print('factorial of',n,'is',fact)"
   ]
  },
  {
   "cell_type": "code",
   "execution_count": 36,
   "metadata": {},
   "outputs": [
    {
     "name": "stdout",
     "output_type": "stream",
     "text": [
      "enter the number: 3\n",
      "enter the number: 1\n",
      "3\n"
     ]
    }
   ],
   "source": [
    "# example 1\n",
    "hours=int(input('enter the number: '))\n",
    "rate=int(input('enter the number: '))\n",
    "pay=hours*rate\n",
    "print(pay)"
   ]
  },
  {
   "cell_type": "code",
   "execution_count": 37,
   "metadata": {},
   "outputs": [
    {
     "name": "stdout",
     "output_type": "stream",
     "text": [
      "True\n"
     ]
    }
   ],
   "source": [
    "### example 2\n",
    "import math\n",
    "def sumofsquares(m):\n",
    "    r=math.floor(math.sqrt(m))\n",
    "    for j in range(1,r+1):\n",
    "        for k in range(r,0,-1):\n",
    "            if j**2+k**2==m:\n",
    "                return True\n",
    "    return False\n",
    "print(sumofsquares(61))"
   ]
  },
  {
   "cell_type": "markdown",
   "metadata": {},
   "source": [
    "\n",
    "\n"
   ]
  }
 ],
 "metadata": {
  "kernelspec": {
   "display_name": "Python 3",
   "language": "python",
   "name": "python3"
  },
  "language_info": {
   "codemirror_mode": {
    "name": "ipython",
    "version": 3
   },
   "file_extension": ".py",
   "mimetype": "text/x-python",
   "name": "python",
   "nbconvert_exporter": "python",
   "pygments_lexer": "ipython3",
   "version": "3.7.3"
  }
 },
 "nbformat": 4,
 "nbformat_minor": 2
}
