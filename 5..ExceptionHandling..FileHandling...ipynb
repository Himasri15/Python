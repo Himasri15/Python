{
 "cells": [
  {
   "cell_type": "markdown",
   "metadata": {},
   "source": [
    "### Exception handling\n",
    "- syntax errors\n",
    "- semantic errors\n",
    "- run time errors"
   ]
  },
  {
   "cell_type": "code",
   "execution_count": 1,
   "metadata": {},
   "outputs": [
    {
     "name": "stdout",
     "output_type": "stream",
     "text": [
      "Enter a number: 3\n",
      "Enter b nmber: 2\n",
      "Division is: 1.5\n",
      "OVER\n"
     ]
    }
   ],
   "source": [
    "a=int(input('Enter a number: ' ))\n",
    "while True:\n",
    "    b=int(input('Enter b nmber: '))\n",
    "    try:\n",
    "        x=a/b\n",
    "        break\n",
    "    except:\n",
    "        print('Division by zerois not posssible, Enter b again')\n",
    "print('Division is:',x)\n",
    "print('OVER')"
   ]
  },
  {
   "cell_type": "code",
   "execution_count": 2,
   "metadata": {},
   "outputs": [
    {
     "name": "stdout",
     "output_type": "stream",
     "text": [
      "Enter a number: 3\n",
      "Enter b nmber: 2\n",
      "1.5\n"
     ]
    }
   ],
   "source": [
    "a=int(input('Enter a number: ' ))               # we get error\n",
    "b=int(input('Enter b nmber: '))\n",
    "x=a/b\n",
    "print(x)\n"
   ]
  },
  {
   "cell_type": "markdown",
   "metadata": {},
   "source": [
    "###### File Handling"
   ]
  },
  {
   "cell_type": "code",
   "execution_count": 3,
   "metadata": {},
   "outputs": [
    {
     "name": "stdout",
     "output_type": "stream",
     "text": [
      "file opened successfully\n",
      "\n",
      "India is great country\n",
      "hi how are you\n",
      "himasri chinnapurapu\n",
      "J&k is now part of India\n",
      "hs"
     ]
    }
   ],
   "source": [
    "# example to open a file and count no of lines in the file\n",
    "try:\n",
    "    fhand1=open('himasri.txt','r')\n",
    "    print('file opened successfully\\n')\n",
    "except:\n",
    "    print('file cannot open')\n",
    "    exit()\n",
    "for i in fhand1:\n",
    "    print(i,end='')\n",
    "fhand1.close()    "
   ]
  },
  {
   "cell_type": "code",
   "execution_count": 4,
   "metadata": {},
   "outputs": [
    {
     "name": "stdout",
     "output_type": "stream",
     "text": [
      "line number 1 : India is great country\n",
      "\n",
      "line number 2 : hi how are you\n",
      "\n",
      "line number 3 : himasri chinnapurapu\n",
      "\n",
      "line number 4 : J&k is now part of India\n",
      "\n",
      "line number 5 : hs\n",
      "5\n"
     ]
    }
   ],
   "source": [
    "fhand1=open('himasri.txt','r')\n",
    "count=0\n",
    "for line in fhand1:                          \n",
    "    count+=1\n",
    "    print('line number',count,':',line)\n",
    "print(count)    "
   ]
  },
  {
   "cell_type": "code",
   "execution_count": 5,
   "metadata": {},
   "outputs": [],
   "source": [
    "# questions\n",
    "# 1. count no of lines in a file\n",
    "# 2. count no of words in a file\n",
    "# 3. countno of characters in a file\n",
    "# 4. print only the lines which are starting with a specific word,taken through keyboard "
   ]
  },
  {
   "cell_type": "code",
   "execution_count": 6,
   "metadata": {},
   "outputs": [
    {
     "name": "stdout",
     "output_type": "stream",
     "text": [
      "['India', 'is', 'great', 'country']\n",
      "['hi', 'how', 'are', 'you']\n",
      "['himasri', 'chinnapurapu']\n",
      "['J&k', 'is', 'now', 'part', 'of', 'India']\n",
      "['hs']\n",
      "17\n"
     ]
    }
   ],
   "source": [
    "try:\n",
    "    fhand2=open('himasri.txt','r')              # no of words\n",
    "except:\n",
    "    print('file not open')\n",
    "    exit()\n",
    "nfwords=0\n",
    "for lines in fhand2:\n",
    "    words=lines.split() \n",
    "    print(words)\n",
    "    nfwords=nfwords+len(words)\n",
    "print(nfwords)\n",
    "\n",
    "\n",
    "\n",
    "    "
   ]
  },
  {
   "cell_type": "code",
   "execution_count": 7,
   "metadata": {},
   "outputs": [
    {
     "name": "stdout",
     "output_type": "stream",
     "text": [
      "5\n"
     ]
    }
   ],
   "source": [
    "try:\n",
    "    fhand1=open('himasri.txt','r')\n",
    "except:\n",
    "    print('file not open')\n",
    "    exit()\n",
    "count=0   \n",
    "for line in fhand1:  \n",
    "    count=count+1\n",
    "print(count)    "
   ]
  },
  {
   "cell_type": "code",
   "execution_count": 8,
   "metadata": {},
   "outputs": [
    {
     "name": "stdout",
     "output_type": "stream",
     "text": [
      "enter your file: \n",
      "5\n",
      "86\n",
      "17\n"
     ]
    }
   ],
   "source": [
    "try:\n",
    "    fhand3=open('himasri.txt','r')\n",
    "    print('enter your file: ')\n",
    "except:\n",
    "    print('file is not found')\n",
    "linecount=0\n",
    "charcount=0\n",
    "wordcount=0\n",
    "for line in fhand3:\n",
    "    linecount+=1\n",
    "    charcount+=len(line)\n",
    "    ls=line.split()\n",
    "    wordcount+=len(ls)\n",
    "print(linecount)\n",
    "print(charcount)\n",
    "print(wordcount)"
   ]
  },
  {
   "cell_type": "code",
   "execution_count": 9,
   "metadata": {},
   "outputs": [
    {
     "name": "stdout",
     "output_type": "stream",
     "text": [
      "enter the file name :hima.txt\n",
      "enter a word to be searched :hima\n",
      "himasri chinnapurapu\n",
      "\n"
     ]
    }
   ],
   "source": [
    "# serching for a word and print only those lines which starts with the given word\n",
    "\n",
    "fname=input('enter the file name :')\n",
    "word=input('enter a word to be searched :')\n",
    "try:\n",
    "    fhand=open(fname,'r')\n",
    "    for line in fhand:\n",
    "        if line.startswith(word):\n",
    "            print(line)                          \n",
    "    fhand.close()\n",
    "except:\n",
    "    print('file not open')"
   ]
  },
  {
   "cell_type": "code",
   "execution_count": null,
   "metadata": {},
   "outputs": [],
   "source": [
    "# ex to write the data into a file\n",
    "\n",
    "fout=open('sri.txt','w')\n",
    "for i in range(5):\n",
    "    line=input('enter a line: ')\n",
    "    fout.write(line +'\\n')\n",
    "print('file writing over!!')\n",
    "fout.close()\n"
   ]
  },
  {
   "cell_type": "code",
   "execution_count": null,
   "metadata": {},
   "outputs": [],
   "source": [
    "filename=input('enter file name: ')\n",
    "try:\n",
    "    fhand1=open(filename,'r')\n",
    "except:\n",
    "    print('file not found: ')\n",
    "    exit(0)\n",
    "fout=open('hima.txt','w')\n",
    "for line in fhand1:\n",
    "    fout.write(line)\n",
    "print('file copied successfully')\n",
    "fhand1.close()\n",
    "fout.close()\n",
    "    "
   ]
  },
  {
   "cell_type": "code",
   "execution_count": null,
   "metadata": {},
   "outputs": [],
   "source": [
    "# store it into a variable of the program\n",
    "try:\n",
    "    fhand=open('himasri.txt')\n",
    "except:\n",
    "    print('file cannot be opened.')\n",
    "    exit()\n",
    "s=fhand.read()\n",
    "print(len(s))                     #counting no of chars in the file\n",
    "print('the file contents are: ',s)\n",
    "print('the first 20 chars of the file are:',s[20])\n",
    "fhand.close()"
   ]
  },
  {
   "cell_type": "code",
   "execution_count": null,
   "metadata": {},
   "outputs": [],
   "source": [
    "# write a program to find word-count from file\n",
    "try:\n",
    "    fhand=open('himasri.txt','r')\n",
    "    print('file open successfully')\n",
    "except:                                                # we try right\n",
    "    print('file not opened')\n",
    "    exit()\n",
    "d={}\n",
    "for line in fhand:\n",
    "    for word in line.split():\n",
    "         d[word]=d.get(word,0)+1\n",
    "print('final',d)        "
   ]
  },
  {
   "cell_type": "code",
   "execution_count": null,
   "metadata": {},
   "outputs": [],
   "source": [
    "import string\n",
    "fname=input(\"enter file name: \")\n",
    "try:\n",
    "    fhand=open(fname)\n",
    "except:\n",
    "    print(\"file cannot be opened\")\n",
    "    exit()\n",
    "d=dict()\n",
    "for line in fhand:\n",
    "    line=line.rstrip()\n",
    "    line=line.translate(line.maketrans('','',string.punctuation))\n",
    "    print(line)\n",
    "    line=line.lower()\n",
    "    for word in line.split():\n",
    "        d[word]=d.get(word,0)+1\n",
    "print('final',d)        "
   ]
  },
  {
   "cell_type": "markdown",
   "metadata": {},
   "source": [
    "### regular expressions\n"
   ]
  },
  {
   "cell_type": "code",
   "execution_count": null,
   "metadata": {},
   "outputs": [],
   "source": [
    "# simple ex on RegEx\n",
    "# Display the lines which are containing 'how'\n",
    "\n",
    "import re\n",
    "try:\n",
    "    fhand=open('himasri.txt')\n",
    "    print('file opened')\n",
    "except:\n",
    "    print('file not opened')\n",
    "for line in fhand:\n",
    "    line = line.rstrip()\n",
    "    if re.search('how',line):\n",
    "         print(line)\n",
    "fhand.close()        "
   ]
  },
  {
   "cell_type": "code",
   "execution_count": null,
   "metadata": {},
   "outputs": [],
   "source": [
    "# display only those lines which are starting with 'hi'\n",
    "import re\n",
    "try:\n",
    "    fhand=open('himasri.txt')\n",
    "    print('file opened')\n",
    "except:\n",
    "    print('file not opened')\n",
    "for line in fhand:\n",
    "    line = line.rstrip()\n",
    "    if re.search('^hi',line):\n",
    "         print(line)\n",
    "fhand.close()   "
   ]
  },
  {
   "cell_type": "code",
   "execution_count": null,
   "metadata": {},
   "outputs": [],
   "source": [
    "# display only those lines which are starting with [h..m] and contaning btw 2 chars and end with m\n",
    "import re\n",
    "try:\n",
    "    fhand=open('himasri.txt')\n",
    "    print('file opened')\n",
    "except:\n",
    "    print('file not found')\n",
    "for line in fhand:\n",
    "    line=line.rstrip()\n",
    "    if re.search('^h.m',line):\n",
    "         print(line)\n",
    "fhand.close()        "
   ]
  },
  {
   "cell_type": "code",
   "execution_count": null,
   "metadata": {},
   "outputs": [],
   "source": [
    "# by using + we can print total line with '^h.+s'\n",
    "import re\n",
    "try:\n",
    "    fhand=open('himasri.txt')\n",
    "    print('file opened')\n",
    "except:\n",
    "    print('file not found')\n",
    "for line in fhand:\n",
    "    line=line.rstrip()\n",
    "    if re.search('^h.+s',line):\n",
    "        print(line)\n",
    "fhand.close()        \n",
    "    "
   ]
  },
  {
   "cell_type": "code",
   "execution_count": null,
   "metadata": {},
   "outputs": [],
   "source": [
    "# by using * it print toatl line in btw '^h.*s' and only hs aslo print\n",
    "import re\n",
    "try:\n",
    "    fhand=open('himasri.txt')\n",
    "    print('file opened')\n",
    "except:\n",
    "    print('file not opened')\n",
    "for line in fhand:\n",
    "    line=line.rstrip()\n",
    "    if re.search('^h.*s',line):\n",
    "        print(line)\n",
    "fhand.close()        "
   ]
  },
  {
   "cell_type": "code",
   "execution_count": null,
   "metadata": {},
   "outputs": [],
   "source": [
    "# wirte a program to extract lines starting with the word 'From'(or 'From') and hving mail id ending with.edu \n",
    "# Input file is:mbox-short.txt\n",
    "import re\n",
    "try:\n",
    "    hand=open('mbox-short.txt')\n",
    "    print('file opened')\n",
    "except:\n",
    "    print('file not found')\n",
    "count=0    \n",
    "for line in hand:\n",
    "    count+=1\n",
    "    line=line.rstrip()\n",
    "    if re.search('^[Ff]rom.*.edu$',line):                  # we use \"$\" because it end what we enter\n",
    "         print(count,line)\n",
    "hand.close()        "
   ]
  },
  {
   "cell_type": "code",
   "execution_count": null,
   "metadata": {},
   "outputs": [],
   "source": [
    "import re\n",
    "try:\n",
    "    hand=open('mbox-short.txt')\n",
    "    print('file opened')\n",
    "except:\n",
    "    print('file not found')\n",
    "count=0    \n",
    "for line in hand:\n",
    "    count+=1\n",
    "    line=line.rstrip()\n",
    "    if re.search('^[Ff]rom.*[0-9]',line):\n",
    "         print(count,line)\n",
    "hand.close()    \n"
   ]
  },
  {
   "cell_type": "code",
   "execution_count": null,
   "metadata": {},
   "outputs": [],
   "source": [
    "# line must  be started with anything other then lower-case alphabets and digits,\n",
    "import re\n",
    "try:\n",
    "    hand=open('mbox-short.txt')\n",
    "    print('file opened')\n",
    "except:\n",
    "    print('file not found')\n",
    "count=0    \n",
    "for line in hand:\n",
    "    count+=1\n",
    "    line=line.rstrip()\n",
    "    if re.search('^[^0-9a-z].',line):\n",
    "         print(count,line)\n",
    "hand.close()    "
   ]
  },
  {
   "cell_type": "code",
   "execution_count": null,
   "metadata": {},
   "outputs": [],
   "source": [
    "# line should start with capital letter,but must end with any digit\n",
    "import re\n",
    "try:\n",
    "    hand=open('mbox-short.txt')\n",
    "    print('file opened')\n",
    "except:\n",
    "    print('file not found')\n",
    "count=0    \n",
    "for line in hand:\n",
    "    line=line.strip()\n",
    "    if re.search('^[A-Z].*[0-9]$',line):\n",
    "         print(line)\n",
    "hand.close()    \n"
   ]
  },
  {
   "cell_type": "code",
   "execution_count": null,
   "metadata": {},
   "outputs": [],
   "source": [
    "#Demo of findall() method\n",
    "#evtract \n",
    "import re\n",
    "s= 'A message from csev@umich.edu to cwen@iupi.edu about meeting @2PM'\n",
    "lst = re.findall('\\S+@\\S+',s)\n",
    "print(lst)\n"
   ]
  },
  {
   "cell_type": "code",
   "execution_count": null,
   "metadata": {},
   "outputs": [],
   "source": [
    "import re\n",
    "s= 'A message from csev@umich.edu to cwen@iupi.edu about meeting @2PM'\n",
    "s1=s.lstrip()\n",
    "print(s1)\n",
    "lst = re.findall('@\\S*edu',s)\n",
    "print(lst)"
   ]
  },
  {
   "cell_type": "code",
   "execution_count": null,
   "metadata": {},
   "outputs": [],
   "source": [
    "import re\n",
    "s= 'A message from csev@umich.edu to cwen@iupi.edu about meeting @2PM'\n",
    "lst = re.findall('\\S+@\\S+',s)\n",
    "print(lst)\n",
    "# Extract only the doamin names\n",
    "for email in lst:\n",
    "    x=email.find('@')\n",
    "    print(email[x+1:])"
   ]
  },
  {
   "cell_type": "code",
   "execution_count": null,
   "metadata": {},
   "outputs": [],
   "source": [
    "import re\n",
    "try:\n",
    "    hand=open('mbox-short.txt')\n",
    "    print('file opened')\n",
    "except:\n",
    "    print('file not found')\n",
    "ls=[]\n",
    "for line in hand:\n",
    "    line=line.strip()\n",
    "    x= re.findall('[a-zA-Z0-9]\\S+@\\S+[a-zA-Z][.][a-zA-Z]+',line)\n",
    "    if len(x) > 0:\n",
    "        ls.extend(x)\n",
    "print(ls)\n",
    "hand.close()    "
   ]
  },
  {
   "cell_type": "markdown",
   "metadata": {},
   "source": [
    "#### oops topic...class object"
   ]
  },
  {
   "cell_type": "code",
   "execution_count": null,
   "metadata": {},
   "outputs": [],
   "source": [
    "class student:\n",
    "    def __init__(self,n,a):\n",
    "        self.name=n\n",
    "        self.age=a\n",
    "    def disp(self):\n",
    "        print('name is',self.name,'age is:',self.age)\n",
    "\n",
    "s1 = student('ram',21)\n",
    "s2 = student('shyam',22)\n",
    "s1.disp()\n",
    "s2.disp()"
   ]
  },
  {
   "cell_type": "code",
   "execution_count": null,
   "metadata": {},
   "outputs": [],
   "source": [
    "## ex for rotatelist\n",
    "def rotatelist(ls,k):\n",
    "    mylist=ls[:]\n",
    "    for i in range(0,k):\n",
    "        mylist = [mylist[-1]] + mylist[0:-1]\n",
    "    return mylist\n",
    "ls1 = rotatelist([1,2,3,4,5],1)\n",
    "print(ls1)\n"
   ]
  },
  {
   "cell_type": "code",
   "execution_count": null,
   "metadata": {},
   "outputs": [],
   "source": [
    "## Histogram\n",
    "def histogram(l):\n",
    "    ls=[]\n",
    "    for i in l:\n",
    "        ls.append((i,l.count(i)))\n",
    "    ls=list(set(ls))\n",
    "    ls1=sorted(ls,key=lambda x:(x[1],x[0]))\n",
    "    return ls1\n",
    "ls=histogram([13,12,11,13,14,13,7,7,13,14,12])\n",
    "print(ls)"
   ]
  },
  {
   "cell_type": "code",
   "execution_count": null,
   "metadata": {},
   "outputs": [],
   "source": [
    "# pratice\n",
    "fhand=open('himasri.txt')\n",
    "count=0\n",
    "for line in fhand:\n",
    "    count+=1\n",
    "    print(count,':',line)\n",
    "print('totallines',count)    \n",
    "    \n",
    "    "
   ]
  },
  {
   "cell_type": "code",
   "execution_count": null,
   "metadata": {},
   "outputs": [],
   "source": [
    "fhand=open('himasri.txt')\n",
    "s=fhand.read()\n",
    "print(len(s))\n",
    "print(s[:20])"
   ]
  },
  {
   "cell_type": "code",
   "execution_count": null,
   "metadata": {},
   "outputs": [],
   "source": []
  }
 ],
 "metadata": {
  "kernelspec": {
   "display_name": "Python 3",
   "language": "python",
   "name": "python3"
  },
  "language_info": {
   "codemirror_mode": {
    "name": "ipython",
    "version": 3
   },
   "file_extension": ".py",
   "mimetype": "text/x-python",
   "name": "python",
   "nbconvert_exporter": "python",
   "pygments_lexer": "ipython3",
   "version": "3.7.3"
  }
 },
 "nbformat": 4,
 "nbformat_minor": 2
}
