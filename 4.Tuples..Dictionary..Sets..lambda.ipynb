{
 "cells": [
  {
   "cell_type": "markdown",
   "metadata": {},
   "source": [
    "## Tuples"
   ]
  },
  {
   "cell_type": "code",
   "execution_count": 1,
   "metadata": {},
   "outputs": [
    {
     "name": "stdout",
     "output_type": "stream",
     "text": [
      "<class 'tuple'>\n"
     ]
    }
   ],
   "source": [
    "k=()\n",
    "print(type(k))"
   ]
  },
  {
   "cell_type": "code",
   "execution_count": 2,
   "metadata": {},
   "outputs": [
    {
     "name": "stdout",
     "output_type": "stream",
     "text": [
      "<class 'tuple'>\n"
     ]
    }
   ],
   "source": [
    "t1=tuple()\n",
    "print(type(t1))"
   ]
  },
  {
   "cell_type": "code",
   "execution_count": 3,
   "metadata": {},
   "outputs": [
    {
     "name": "stdout",
     "output_type": "stream",
     "text": [
      "(12, 9, 0)\n"
     ]
    }
   ],
   "source": [
    "t=(12,9,0)\n",
    "print(t)"
   ]
  },
  {
   "cell_type": "code",
   "execution_count": 4,
   "metadata": {},
   "outputs": [
    {
     "name": "stdout",
     "output_type": "stream",
     "text": [
      "himasri\n"
     ]
    }
   ],
   "source": [
    "t2=('himasri')\n",
    "print(t2)\n"
   ]
  },
  {
   "cell_type": "code",
   "execution_count": 5,
   "metadata": {},
   "outputs": [
    {
     "name": "stdout",
     "output_type": "stream",
     "text": [
      "<class 'int'>\n"
     ]
    }
   ],
   "source": [
    "# create tuple with single element\n",
    "t3=(3)                     \n",
    "print(type(t3))             # will be treated as integre"
   ]
  },
  {
   "cell_type": "code",
   "execution_count": 6,
   "metadata": {},
   "outputs": [
    {
     "name": "stdout",
     "output_type": "stream",
     "text": [
      "<class 'tuple'>\n",
      "(3,)\n"
     ]
    }
   ],
   "source": [
    "t =(3,)                                                    # tuple with single element\n",
    "print(type(t))\n",
    "print(t)"
   ]
  },
  {
   "cell_type": "code",
   "execution_count": 7,
   "metadata": {},
   "outputs": [
    {
     "name": "stdout",
     "output_type": "stream",
     "text": [
      "<class 'tuple'>\n",
      "(1, 2, 3)\n"
     ]
    }
   ],
   "source": [
    "t=1,2,3\n",
    "print(type(t))                                            # parameters are not necessary\n",
    "print(t)"
   ]
  },
  {
   "cell_type": "code",
   "execution_count": 8,
   "metadata": {},
   "outputs": [
    {
     "name": "stdout",
     "output_type": "stream",
     "text": [
      "('H', 'E', 'L', 'O', 'O')\n"
     ]
    }
   ],
   "source": [
    "s='HELOO'                                                     # creating tuple using string\n",
    "t=tuple(s)\n",
    "print(t)"
   ]
  },
  {
   "cell_type": "code",
   "execution_count": 9,
   "metadata": {},
   "outputs": [
    {
     "name": "stdout",
     "output_type": "stream",
     "text": [
      "(1, 2, 3, 4)\n"
     ]
    }
   ],
   "source": [
    "ls=[1,2,3,4]                                                  #creating tuple using list\n",
    "t=tuple(ls)\n",
    "print(t)"
   ]
  },
  {
   "cell_type": "code",
   "execution_count": 10,
   "metadata": {},
   "outputs": [
    {
     "name": "stdout",
     "output_type": "stream",
     "text": [
      "hello\n",
      "('hello', 'hima')\n",
      "hima\n",
      "hi\n"
     ]
    }
   ],
   "source": [
    "t='hi','hello','hima'                                         # indexing and slicing on tuples\n",
    "print(t[1])\n",
    "print(t[1:])\n",
    "print(t[-1])\n",
    "print(t[0])"
   ]
  },
  {
   "cell_type": "code",
   "execution_count": 11,
   "metadata": {},
   "outputs": [
    {
     "ename": "TypeError",
     "evalue": "'tuple' object does not support item assignment",
     "output_type": "error",
     "traceback": [
      "\u001b[1;31m---------------------------------------------------------------------------\u001b[0m",
      "\u001b[1;31mTypeError\u001b[0m                                 Traceback (most recent call last)",
      "\u001b[1;32m<ipython-input-11-0b8cff8e4df6>\u001b[0m in \u001b[0;36m<module>\u001b[1;34m\u001b[0m\n\u001b[0;32m      2\u001b[0m \u001b[1;31m# Insted,we can slice and create new tuple\u001b[0m\u001b[1;33m\u001b[0m\u001b[1;33m\u001b[0m\u001b[1;33m\u001b[0m\u001b[0m\n\u001b[0;32m      3\u001b[0m \u001b[0mt\u001b[0m\u001b[1;33m=\u001b[0m\u001b[1;33m(\u001b[0m\u001b[1;34m'hii'\u001b[0m\u001b[1;33m,\u001b[0m\u001b[1;34m'heloo'\u001b[0m\u001b[1;33m,\u001b[0m\u001b[1;34m'how'\u001b[0m\u001b[1;33m)\u001b[0m\u001b[1;33m\u001b[0m\u001b[1;33m\u001b[0m\u001b[0m\n\u001b[1;32m----> 4\u001b[1;33m \u001b[0mt\u001b[0m\u001b[1;33m[\u001b[0m\u001b[1;36m0\u001b[0m\u001b[1;33m]\u001b[0m\u001b[1;33m=\u001b[0m\u001b[1;34m'hima'\u001b[0m                   \u001b[1;31m# it will error\u001b[0m\u001b[1;33m\u001b[0m\u001b[1;33m\u001b[0m\u001b[0m\n\u001b[0m\u001b[0;32m      5\u001b[0m \u001b[0mprint\u001b[0m\u001b[1;33m(\u001b[0m\u001b[0mt\u001b[0m\u001b[1;33m)\u001b[0m\u001b[1;33m\u001b[0m\u001b[1;33m\u001b[0m\u001b[0m\n",
      "\u001b[1;31mTypeError\u001b[0m: 'tuple' object does not support item assignment"
     ]
    }
   ],
   "source": [
    "                                                              #as tuples are immutable,one cannot alter its contents\n",
    "                                                              # Insted,we can slice and create new tuple\n",
    "t=('hii','heloo','how')\n",
    "t[0]='hima'                   # it will error\n",
    "print(t)\n"
   ]
  },
  {
   "cell_type": "markdown",
   "metadata": {},
   "source": [
    "####  Assignment tuples"
   ]
  },
  {
   "cell_type": "code",
   "execution_count": 12,
   "metadata": {},
   "outputs": [
    {
     "name": "stdout",
     "output_type": "stream",
     "text": [
      "10\n",
      "15\n",
      "16\n",
      "hima\n"
     ]
    }
   ],
   "source": [
    "x,y,z,p=10,15,16,'hima'\n",
    "print(x)\n",
    "print(y)\n",
    "print(z)\n",
    "print(p)"
   ]
  },
  {
   "cell_type": "code",
   "execution_count": 13,
   "metadata": {},
   "outputs": [
    {
     "name": "stdout",
     "output_type": "stream",
     "text": [
      "20 10\n"
     ]
    }
   ],
   "source": [
    "a=10                 # swapping of two numbers\n",
    "b=20\n",
    "a,b=b,a\n",
    "print(a,b)"
   ]
  },
  {
   "cell_type": "code",
   "execution_count": 14,
   "metadata": {},
   "outputs": [
    {
     "ename": "ValueError",
     "evalue": "too many values to unpack (expected 2)",
     "output_type": "error",
     "traceback": [
      "\u001b[1;31m---------------------------------------------------------------------------\u001b[0m",
      "\u001b[1;31mValueError\u001b[0m                                Traceback (most recent call last)",
      "\u001b[1;32m<ipython-input-14-649d19bcb2d3>\u001b[0m in \u001b[0;36m<module>\u001b[1;34m\u001b[0m\n\u001b[1;32m----> 1\u001b[1;33m \u001b[0mx\u001b[0m\u001b[1;33m,\u001b[0m\u001b[0my\u001b[0m \u001b[1;33m=\u001b[0m \u001b[1;36m15\u001b[0m\u001b[1;33m,\u001b[0m\u001b[1;36m18\u001b[0m\u001b[1;33m,\u001b[0m\u001b[1;36m20\u001b[0m         \u001b[1;31m#excess value assignment\u001b[0m\u001b[1;33m\u001b[0m\u001b[1;33m\u001b[0m\u001b[0m\n\u001b[0m\u001b[0;32m      2\u001b[0m                      \u001b[1;31m# it will give error\u001b[0m\u001b[1;33m\u001b[0m\u001b[1;33m\u001b[0m\u001b[1;33m\u001b[0m\u001b[0m\n",
      "\u001b[1;31mValueError\u001b[0m: too many values to unpack (expected 2)"
     ]
    }
   ],
   "source": [
    "x,y = 15,18,20         #excess value assignment\n",
    "                     # it will give error"
   ]
  },
  {
   "cell_type": "markdown",
   "metadata": {},
   "source": [
    "### Dictionary\n",
    "- def It is a collection of elements in the form of key:Value pair\n",
    "- keys must be unique\n",
    "- keys must be of immutable type: like strings,tuples,numbers\n",
    "- empty dictionary we can create like d={ } or d=dict()\n",
    "- in dictionary we cannot use numbers as indices,we use key only\n",
    "- key must be in unique\n",
    "- values are repeated, key are cannt be reapeated,if key is repeatd means they will overwrite\n",
    "- dict "
   ]
  },
  {
   "cell_type": "code",
   "execution_count": 15,
   "metadata": {},
   "outputs": [
    {
     "name": "stdout",
     "output_type": "stream",
     "text": [
      "{'Mango': 'Fruit', 'Banana': 'Fruit', 'Cucumbar': 'veg'}\n"
     ]
    }
   ],
   "source": [
    "# creating a empty dictionary and adding items to it\n",
    "d={}\n",
    "d[\"Mango\"]=\"Fruit\"\n",
    "d[\"Banana\"]=\"Fruit\"\n",
    "d[\"Cucumbar\"]=\"veg\"\n",
    "print(d)"
   ]
  },
  {
   "cell_type": "code",
   "execution_count": 16,
   "metadata": {},
   "outputs": [
    {
     "name": "stdout",
     "output_type": "stream",
     "text": [
      "{'Mango': 'Fruit', 'Banana': 55, 'Cucumbar': 'veg'}\n"
     ]
    }
   ],
   "source": [
    "# using th eexisting key again will over write previous value\n",
    "d[\"Banana\"]=55\n",
    "print(d)"
   ]
  },
  {
   "cell_type": "code",
   "execution_count": 17,
   "metadata": {},
   "outputs": [
    {
     "name": "stdout",
     "output_type": "stream",
     "text": [
      "<class 'dict'>\n"
     ]
    }
   ],
   "source": [
    "print(type(d))"
   ]
  },
  {
   "cell_type": "markdown",
   "metadata": {},
   "source": [
    "##### Built in methods\n",
    "- list\n",
    "- key\n",
    "- value\n",
    "- items\n",
    "- in\n"
   ]
  },
  {
   "cell_type": "code",
   "execution_count": 18,
   "metadata": {},
   "outputs": [
    {
     "name": "stdout",
     "output_type": "stream",
     "text": [
      "['tom', 'jerry', 'donald']\n"
     ]
    }
   ],
   "source": [
    "tel_dir={'tom': 3645, 'jerry':4568, 'donald': 6787}\n",
    "ls=list(tel_dir.keys())\n",
    "print(ls)                                                           # keys\n"
   ]
  },
  {
   "cell_type": "code",
   "execution_count": 19,
   "metadata": {},
   "outputs": [
    {
     "data": {
      "text/plain": [
       "tom       3645\n",
       "jerry     4568\n",
       "donald    6787\n",
       "dtype: int64"
      ]
     },
     "execution_count": 19,
     "metadata": {},
     "output_type": "execute_result"
    }
   ],
   "source": [
    "import pandas as pd\n",
    "x=pd.Series(tel_dir)\n",
    "x"
   ]
  },
  {
   "cell_type": "code",
   "execution_count": 20,
   "metadata": {},
   "outputs": [
    {
     "name": "stdout",
     "output_type": "stream",
     "text": [
      "[3645, 4568, 6787]\n"
     ]
    }
   ],
   "source": [
    "v=list(tel_dir.values())\n",
    "print(v)                                                            # values"
   ]
  },
  {
   "cell_type": "code",
   "execution_count": 21,
   "metadata": {},
   "outputs": [
    {
     "data": {
      "text/plain": [
       "[('tom', 3645), ('jerry', 4568), ('donald', 6787)]"
      ]
     },
     "execution_count": 21,
     "metadata": {},
     "output_type": "execute_result"
    }
   ],
   "source": [
    "ls1=list(tel_dir.items())\n",
    "ls1"
   ]
  },
  {
   "cell_type": "code",
   "execution_count": 22,
   "metadata": {},
   "outputs": [
    {
     "name": "stdout",
     "output_type": "stream",
     "text": [
      "[('tom', 3645), ('jerry', 4568), ('donald', 6787)]\n"
     ]
    }
   ],
   "source": [
    "items=list(tel_dir.items())                                         # items\n",
    "print(items)"
   ]
  },
  {
   "cell_type": "code",
   "execution_count": 23,
   "metadata": {},
   "outputs": [
    {
     "data": {
      "text/plain": [
       "True"
      ]
     },
     "execution_count": 23,
     "metadata": {},
     "output_type": "execute_result"
    }
   ],
   "source": [
    "'tom' in tel_dir                                                    # find out any key we use \"in\""
   ]
  },
  {
   "cell_type": "code",
   "execution_count": 24,
   "metadata": {},
   "outputs": [
    {
     "name": "stdout",
     "output_type": "stream",
     "text": [
      "[('mickey', 5677), ('jerry', 4568), ('donald', 6787)]\n"
     ]
    }
   ],
   "source": [
    "ls1[0]=('mickey',5677)                                             # doubt\n",
    "print(ls1)"
   ]
  },
  {
   "cell_type": "code",
   "execution_count": 25,
   "metadata": {},
   "outputs": [
    {
     "data": {
      "text/plain": [
       "{'tom': 3645, 'jerry': 4568, 'donald': 6787}"
      ]
     },
     "execution_count": 25,
     "metadata": {},
     "output_type": "execute_result"
    }
   ],
   "source": [
    "tel_dir"
   ]
  },
  {
   "cell_type": "code",
   "execution_count": 26,
   "metadata": {},
   "outputs": [
    {
     "name": "stdout",
     "output_type": "stream",
     "text": [
      "25\n",
      "null\n"
     ]
    }
   ],
   "source": [
    "                                                                         # using get() function\n",
    "students={'Tom': 24, 'jerry':25, 'Donald':21}\n",
    "print(students.get('jerry',8))                    #as 'jerry ' is there in dictionary,repective\n",
    "print(students.get('mickey','null'))"
   ]
  },
  {
   "cell_type": "code",
   "execution_count": 27,
   "metadata": {},
   "outputs": [
    {
     "name": "stdout",
     "output_type": "stream",
     "text": [
      "enter a string :heloo\n",
      "final {'h': 1, 'e': 1, 'l': 1, 'o': 2}\n"
     ]
    }
   ],
   "source": [
    "'''write a program to read a string.Count numbers of occurrences of each char in the string.Use dictionary.\n",
    "ex:input string is 'hello' Then output must be {'h':1,'e':1,'l':2,'o':1} '''\n",
    "\n",
    "d={}\n",
    "c=input('enter a string :')\n",
    "for ch in c:\n",
    "     d[ch]=d.get(ch,0)+1\n",
    "print('final',d)"
   ]
  },
  {
   "cell_type": "code",
   "execution_count": 28,
   "metadata": {},
   "outputs": [
    {
     "name": "stdout",
     "output_type": "stream",
     "text": [
      "key is:  tom value is:  3645\n",
      "key is:  jerry value is:  4568\n",
      "key is:  donald value is:  6787\n"
     ]
    }
   ],
   "source": [
    "for k,v in tel_dir.items():\n",
    "    print('key is: ',k, 'value is: ',v)"
   ]
  },
  {
   "cell_type": "code",
   "execution_count": 31,
   "metadata": {},
   "outputs": [
    {
     "name": "stdout",
     "output_type": "stream",
     "text": [
      "The sorted list:\n",
      " ['Karnataka', 'country.', 'state', 'great', 'India', 'India', 'the', 'one', 'of', 'is', 'is', 'in', 'a']\n"
     ]
    }
   ],
   "source": [
    "txt='India is a great country. Karnataka is one of the state in India'\n",
    "words=txt.split()\n",
    "t = list()\n",
    "for word in words:\n",
    "      t.append((len(word),word))\n",
    "t.sort(reverse=True)\n",
    "res=list()\n",
    "for length,word in t:\n",
    "    res.append(word)\n",
    "print('The sorted list:\\n', res)    "
   ]
  },
  {
   "cell_type": "markdown",
   "metadata": {},
   "source": [
    "## Sets"
   ]
  },
  {
   "cell_type": "code",
   "execution_count": 32,
   "metadata": {},
   "outputs": [
    {
     "name": "stdout",
     "output_type": "stream",
     "text": [
      "<class 'set'>\n"
     ]
    }
   ],
   "source": [
    "st=set()\n",
    "print(type(st))"
   ]
  },
  {
   "cell_type": "code",
   "execution_count": 33,
   "metadata": {},
   "outputs": [
    {
     "name": "stdout",
     "output_type": "stream",
     "text": [
      "{'hello', 'hima', 'hi'}\n"
     ]
    }
   ],
   "source": [
    "# creating a simple set\n",
    "st={'hi','hello','hima'}\n",
    "print(st)"
   ]
  },
  {
   "cell_type": "code",
   "execution_count": 34,
   "metadata": {},
   "outputs": [
    {
     "name": "stdout",
     "output_type": "stream",
     "text": [
      "{'hello', 'sri', 'hima', 'hi'}\n"
     ]
    }
   ],
   "source": [
    "# add element to set\n",
    "st.add('sri')\n",
    "print(st)"
   ]
  },
  {
   "cell_type": "code",
   "execution_count": 35,
   "metadata": {},
   "outputs": [
    {
     "name": "stdout",
     "output_type": "stream",
     "text": [
      "{'sri', 'hima', 'hi'}\n"
     ]
    }
   ],
   "source": [
    "# remove element from set\n",
    "st.remove('hello')\n",
    "print(st)"
   ]
  },
  {
   "cell_type": "code",
   "execution_count": 36,
   "metadata": {},
   "outputs": [
    {
     "name": "stdout",
     "output_type": "stream",
     "text": [
      "{'s', 'hi', 'sri', 'hima', 'h'}\n"
     ]
    }
   ],
   "source": [
    "# adding more than one element at a time\n",
    "st.update(['h','s'])\n",
    "print(st)"
   ]
  },
  {
   "cell_type": "code",
   "execution_count": 37,
   "metadata": {},
   "outputs": [
    {
     "name": "stdout",
     "output_type": "stream",
     "text": [
      "{'hello', 'sri', 'hi'}\n"
     ]
    }
   ],
   "source": [
    "# sets will not allow duplicate of data elemets\n",
    "st1={'hi','hello','hi','sri'}\n",
    "print(st1)"
   ]
  },
  {
   "cell_type": "code",
   "execution_count": 38,
   "metadata": {},
   "outputs": [
    {
     "name": "stdout",
     "output_type": "stream",
     "text": [
      "[1, 2, 3, 4, 5, 7, 8, 9, 41, 11, 61]\n"
     ]
    }
   ],
   "source": [
    "# write a program to eliminate repeated entries in a list and keep single copy of each element\n",
    "ls=[1,2,3,4,5,61,2,3,7,8,9,4,11,41]\n",
    "ls1=list(set(ls))\n",
    "print(ls1)"
   ]
  },
  {
   "cell_type": "markdown",
   "metadata": {},
   "source": [
    "### Lambda functions\n",
    "- Functions without name\n",
    "- simple functions where the task to be carried out is small\n",
    "- can take arguments"
   ]
  },
  {
   "cell_type": "code",
   "execution_count": 39,
   "metadata": {},
   "outputs": [
    {
     "name": "stdout",
     "output_type": "stream",
     "text": [
      "15\n"
     ]
    }
   ],
   "source": [
    "# simple example of lambda function\n",
    "x=lambda a:a+10\n",
    "print(x(5))"
   ]
  },
  {
   "cell_type": "code",
   "execution_count": 40,
   "metadata": {},
   "outputs": [
    {
     "name": "stdout",
     "output_type": "stream",
     "text": [
      "15\n",
      "30\n",
      "45\n"
     ]
    }
   ],
   "source": [
    "x=lambda a:a+10\n",
    "y=lambda b:b+20\n",
    "z=lambda c:c+15\n",
    "print(x(5))\n",
    "print(y(10))\n",
    "print(z(30))"
   ]
  },
  {
   "cell_type": "code",
   "execution_count": 41,
   "metadata": {},
   "outputs": [
    {
     "name": "stdout",
     "output_type": "stream",
     "text": [
      "56\n"
     ]
    }
   ],
   "source": [
    "# lambda functionwith two arguments\n",
    "x=lambda a, b: a*b\n",
    "print(x(7,8))"
   ]
  },
  {
   "cell_type": "markdown",
   "metadata": {},
   "source": [
    "#### filter"
   ]
  },
  {
   "cell_type": "code",
   "execution_count": 42,
   "metadata": {},
   "outputs": [
    {
     "name": "stdout",
     "output_type": "stream",
     "text": [
      "[23, 5, 43, 3, 5, 3]\n"
     ]
    }
   ],
   "source": [
    "# print odd numbers\n",
    "ls=[2,2,23,4,5,56,43,3,6,5,3,6,8,2,4]\n",
    "final_list = list(filter(lambda x:(x%2 !=0),ls))\n",
    "print(final_list)"
   ]
  },
  {
   "cell_type": "code",
   "execution_count": null,
   "metadata": {},
   "outputs": [],
   "source": [
    "# evtract the words from a string which are startig with 'h'\n",
    "x=input('enter the string: ')\n",
    "s=x.split(' ')\n",
    "print(s)\n",
    "s1=list(filter(lambda x:x.startswith('h'),s))\n",
    "print(s1)"
   ]
  },
  {
   "cell_type": "markdown",
   "metadata": {},
   "source": [
    "###### lambda function with MAP()"
   ]
  },
  {
   "cell_type": "code",
   "execution_count": null,
   "metadata": {},
   "outputs": [],
   "source": [
    "ls = [2,4,623,6,8,3,9,6,4]\n",
    "final_list = list(map(lambda x:x*2,ls))\n",
    "print(final_list)"
   ]
  },
  {
   "cell_type": "code",
   "execution_count": null,
   "metadata": {},
   "outputs": [],
   "source": [
    "ls = [2,4,623,6,8,3,9,6,4]\n",
    "avg=sum(ls)/len(ls)\n",
    "dev = list(map(lambda x:(x-avg)**2,ls))\n",
    "print(dev)\n",
    "var=sum(dev)/len(ls)\n",
    "print(var)"
   ]
  },
  {
   "cell_type": "markdown",
   "metadata": {},
   "source": [
    "####### lambda function with reduce()"
   ]
  },
  {
   "cell_type": "code",
   "execution_count": null,
   "metadata": {},
   "outputs": [],
   "source": [
    "from functools import reduce"
   ]
  },
  {
   "cell_type": "code",
   "execution_count": null,
   "metadata": {},
   "outputs": [],
   "source": [
    "ls=[2,3,4,5,1,2,7,6,87]\n",
    "total=reduce((lambda x,y: x+y),ls)\n",
    "print(total)"
   ]
  },
  {
   "cell_type": "code",
   "execution_count": null,
   "metadata": {},
   "outputs": [],
   "source": [
    "ls=[2,3,4,5,1,2,7,6,87]\n",
    "total=reduce((lambda x,y: x*y),ls)\n",
    "print(total)"
   ]
  },
  {
   "cell_type": "code",
   "execution_count": null,
   "metadata": {},
   "outputs": [],
   "source": [
    "ls=['Hi','Hello','Hima','sri']\n",
    "s = reduce((lambda x,y:x+y),ls)\n",
    "print(s)"
   ]
  },
  {
   "cell_type": "code",
   "execution_count": null,
   "metadata": {},
   "outputs": [],
   "source": [
    "d={}\n",
    "h=(input('enter a number :'))\n",
    "for n in h:\n",
    "     d[n]=d.get(n,0)+1\n",
    "print('final',d)"
   ]
  },
  {
   "cell_type": "code",
   "execution_count": null,
   "metadata": {},
   "outputs": [],
   "source": [
    "# quiz ex1\n",
    "data=[[[1,2],[3,4]],[[5,6],[7,8]]]\n",
    "def fun(m):\n",
    "    v = m[0][0]\n",
    "    for row in m:\n",
    "        for element in row:\n",
    "            if v < element:\n",
    "                v = element\n",
    "    return v\n",
    "print(fun(data[0]))"
   ]
  },
  {
   "cell_type": "code",
   "execution_count": null,
   "metadata": {},
   "outputs": [],
   "source": [
    "## ex\n",
    "arr=[[1,2,3,4],[4,5,6,7],[8,9,10,11],[12,13,14,15]]\n",
    "for i in range(0,4):\n",
    "    print(arr[i].pop())"
   ]
  },
  {
   "cell_type": "code",
   "execution_count": null,
   "metadata": {},
   "outputs": [],
   "source": [
    "x=input()\n",
    "N=int(input())\n",
    "ls=[]\n",
    "for i in range(N):\n",
    "    ls.append(input())\n",
    "flag=0\n",
    "for i in range(N):\n",
    "    if x==ls[i]:\n",
    "        flag=1\n",
    "        break\n",
    "        "
   ]
  },
  {
   "cell_type": "code",
   "execution_count": null,
   "metadata": {},
   "outputs": [],
   "source": [
    "tel_dir={'tom': 3645, 'jerry':4568, 'donald': 6787}\n",
    "ls=list(tel_dir.keys())\n",
    "ls.sort()\n",
    "for k in ls:\n",
    "    x=k,tel_dir[k]\n",
    "    print(x)"
   ]
  },
  {
   "cell_type": "code",
   "execution_count": null,
   "metadata": {},
   "outputs": [],
   "source": [
    "import pandas as pd\n",
    "\n",
    "x1 = pd.Series(x)"
   ]
  },
  {
   "cell_type": "code",
   "execution_count": null,
   "metadata": {},
   "outputs": [],
   "source": [
    "print(x1)"
   ]
  },
  {
   "cell_type": "code",
   "execution_count": null,
   "metadata": {},
   "outputs": [],
   "source": []
  }
 ],
 "metadata": {
  "kernelspec": {
   "display_name": "Python 3",
   "language": "python",
   "name": "python3"
  },
  "language_info": {
   "codemirror_mode": {
    "name": "ipython",
    "version": 3
   },
   "file_extension": ".py",
   "mimetype": "text/x-python",
   "name": "python",
   "nbconvert_exporter": "python",
   "pygments_lexer": "ipython3",
   "version": "3.7.3"
  }
 },
 "nbformat": 4,
 "nbformat_minor": 2
}
